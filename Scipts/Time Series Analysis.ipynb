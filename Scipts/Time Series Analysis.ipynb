{
 "cells": [
  {
   "cell_type": "markdown",
   "id": "142bd2e9",
   "metadata": {},
   "source": [
    "# Importing Libraries and Databases"
   ]
  },
  {
   "cell_type": "code",
   "execution_count": 1,
   "id": "8633cb6c",
   "metadata": {},
   "outputs": [],
   "source": [
    "import quandl\n",
    "import pandas as pd\n",
    "import numpy as np\n",
    "import seaborn as sns\n",
    "import matplotlib\n",
    "import matplotlib.pyplot as plt\n",
    "import statsmodels.api as sm # Using .api imports the public access version of statsmodels, which is a library that handles \n",
    "# statistical models.\n",
    "import os\n",
    "import warnings # This is a library that handles warnings.\n",
    "\n",
    "warnings.filterwarnings(\"ignore\") # Disable deprecation warnings that could indicate, for instance, a suspended library or \n",
    "# feature. These are more relevant to developers and very seldom to analysts.\n",
    "\n",
    "plt.style.use('fivethirtyeight') # This is a styling option for how your plots will appear. More examples here:\n",
    "# https://matplotlib.org/3.2.1/tutorials/introductory/customizing.html\n",
    "# https://matplotlib.org/3.1.0/gallery/style_sheets/fivethirtyeight.html"
   ]
  },
  {
   "cell_type": "code",
   "execution_count": 2,
   "id": "536f9e72",
   "metadata": {},
   "outputs": [],
   "source": [
    "# Importing databases\n",
    "# creating a path\n",
    "path=r'C:\\Users\\William\\July-2023 Airbnb Amsterdam'"
   ]
  },
  {
   "cell_type": "code",
   "execution_count": 3,
   "id": "a5d8d6b9",
   "metadata": {},
   "outputs": [],
   "source": [
    "df_calendar=pd.read_csv(os.path.join(path, 'Data', 'Prepared Data', 'df_calendar_cleaned.csv'), index_col = False)"
   ]
  },
  {
   "cell_type": "markdown",
   "id": "a82504d5",
   "metadata": {},
   "source": [
    "# Data Cleaning"
   ]
  },
  {
   "cell_type": "code",
   "execution_count": 4,
   "id": "cb8220ff",
   "metadata": {},
   "outputs": [
    {
     "data": {
      "text/plain": [
       "Unnamed: 0          0\n",
       "listing_id          0\n",
       "date                0\n",
       "available           0\n",
       "price         6110879\n",
       "dtype: int64"
      ]
     },
     "execution_count": 4,
     "metadata": {},
     "output_type": "execute_result"
    }
   ],
   "source": [
    "# Identifying missing values in Calenders database\n",
    "df_calendar.isnull().sum()"
   ]
  },
  {
   "cell_type": "code",
   "execution_count": 5,
   "id": "43cc7979",
   "metadata": {},
   "outputs": [
    {
     "data": {
      "text/plain": [
       "(7310950, 5)"
      ]
     },
     "execution_count": 5,
     "metadata": {},
     "output_type": "execute_result"
    }
   ],
   "source": [
    "df_calendar.shape"
   ]
  },
  {
   "cell_type": "code",
   "execution_count": 6,
   "id": "69126931",
   "metadata": {},
   "outputs": [
    {
     "data": {
      "text/html": [
       "<div>\n",
       "<style scoped>\n",
       "    .dataframe tbody tr th:only-of-type {\n",
       "        vertical-align: middle;\n",
       "    }\n",
       "\n",
       "    .dataframe tbody tr th {\n",
       "        vertical-align: top;\n",
       "    }\n",
       "\n",
       "    .dataframe thead th {\n",
       "        text-align: right;\n",
       "    }\n",
       "</style>\n",
       "<table border=\"1\" class=\"dataframe\">\n",
       "  <thead>\n",
       "    <tr style=\"text-align: right;\">\n",
       "      <th></th>\n",
       "      <th>Unnamed: 0</th>\n",
       "      <th>listing_id</th>\n",
       "      <th>date</th>\n",
       "      <th>available</th>\n",
       "      <th>price</th>\n",
       "    </tr>\n",
       "  </thead>\n",
       "  <tbody>\n",
       "    <tr>\n",
       "      <th>240</th>\n",
       "      <td>240</td>\n",
       "      <td>255809</td>\n",
       "      <td>2019-12-05</td>\n",
       "      <td>t</td>\n",
       "      <td>$150.00</td>\n",
       "    </tr>\n",
       "    <tr>\n",
       "      <th>241</th>\n",
       "      <td>241</td>\n",
       "      <td>255809</td>\n",
       "      <td>2019-12-04</td>\n",
       "      <td>t</td>\n",
       "      <td>$150.00</td>\n",
       "    </tr>\n",
       "    <tr>\n",
       "      <th>242</th>\n",
       "      <td>242</td>\n",
       "      <td>255809</td>\n",
       "      <td>2019-12-03</td>\n",
       "      <td>t</td>\n",
       "      <td>$150.00</td>\n",
       "    </tr>\n",
       "    <tr>\n",
       "      <th>243</th>\n",
       "      <td>243</td>\n",
       "      <td>255809</td>\n",
       "      <td>2019-12-02</td>\n",
       "      <td>t</td>\n",
       "      <td>$150.00</td>\n",
       "    </tr>\n",
       "    <tr>\n",
       "      <th>244</th>\n",
       "      <td>244</td>\n",
       "      <td>255809</td>\n",
       "      <td>2019-12-01</td>\n",
       "      <td>t</td>\n",
       "      <td>$150.00</td>\n",
       "    </tr>\n",
       "    <tr>\n",
       "      <th>...</th>\n",
       "      <td>...</td>\n",
       "      <td>...</td>\n",
       "      <td>...</td>\n",
       "      <td>...</td>\n",
       "      <td>...</td>\n",
       "    </tr>\n",
       "    <tr>\n",
       "      <th>7310945</th>\n",
       "      <td>7310945</td>\n",
       "      <td>29979667</td>\n",
       "      <td>2018-12-11</td>\n",
       "      <td>t</td>\n",
       "      <td>$139.00</td>\n",
       "    </tr>\n",
       "    <tr>\n",
       "      <th>7310946</th>\n",
       "      <td>7310946</td>\n",
       "      <td>29979667</td>\n",
       "      <td>2018-12-10</td>\n",
       "      <td>t</td>\n",
       "      <td>$139.00</td>\n",
       "    </tr>\n",
       "    <tr>\n",
       "      <th>7310947</th>\n",
       "      <td>7310947</td>\n",
       "      <td>29979667</td>\n",
       "      <td>2018-12-09</td>\n",
       "      <td>t</td>\n",
       "      <td>$139.00</td>\n",
       "    </tr>\n",
       "    <tr>\n",
       "      <th>7310948</th>\n",
       "      <td>7310948</td>\n",
       "      <td>29979667</td>\n",
       "      <td>2018-12-08</td>\n",
       "      <td>t</td>\n",
       "      <td>$139.00</td>\n",
       "    </tr>\n",
       "    <tr>\n",
       "      <th>7310949</th>\n",
       "      <td>7310949</td>\n",
       "      <td>29979667</td>\n",
       "      <td>2018-12-07</td>\n",
       "      <td>t</td>\n",
       "      <td>$139.00</td>\n",
       "    </tr>\n",
       "  </tbody>\n",
       "</table>\n",
       "<p>1200071 rows × 5 columns</p>\n",
       "</div>"
      ],
      "text/plain": [
       "         Unnamed: 0  listing_id        date available    price\n",
       "240             240      255809  2019-12-05         t  $150.00\n",
       "241             241      255809  2019-12-04         t  $150.00\n",
       "242             242      255809  2019-12-03         t  $150.00\n",
       "243             243      255809  2019-12-02         t  $150.00\n",
       "244             244      255809  2019-12-01         t  $150.00\n",
       "...             ...         ...         ...       ...      ...\n",
       "7310945     7310945    29979667  2018-12-11         t  $139.00\n",
       "7310946     7310946    29979667  2018-12-10         t  $139.00\n",
       "7310947     7310947    29979667  2018-12-09         t  $139.00\n",
       "7310948     7310948    29979667  2018-12-08         t  $139.00\n",
       "7310949     7310949    29979667  2018-12-07         t  $139.00\n",
       "\n",
       "[1200071 rows x 5 columns]"
      ]
     },
     "execution_count": 6,
     "metadata": {},
     "output_type": "execute_result"
    }
   ],
   "source": [
    "df_calendar.dropna()"
   ]
  },
  {
   "cell_type": "code",
   "execution_count": 7,
   "id": "f78f8d19",
   "metadata": {},
   "outputs": [
    {
     "data": {
      "text/plain": [
       "(7310950, 5)"
      ]
     },
     "execution_count": 7,
     "metadata": {},
     "output_type": "execute_result"
    }
   ],
   "source": [
    "df_calendar.shape"
   ]
  },
  {
   "cell_type": "code",
   "execution_count": 8,
   "id": "c6575bb4",
   "metadata": {},
   "outputs": [],
   "source": [
    "df_calendar.drop('Unnamed: 0', axis=1, inplace=True)"
   ]
  },
  {
   "cell_type": "code",
   "execution_count": 9,
   "id": "01274dc3",
   "metadata": {},
   "outputs": [],
   "source": [
    "df_calendar.drop('available', axis=1, inplace=True)"
   ]
  },
  {
   "cell_type": "code",
   "execution_count": 10,
   "id": "4c67f10d",
   "metadata": {},
   "outputs": [
    {
     "data": {
      "text/html": [
       "<div>\n",
       "<style scoped>\n",
       "    .dataframe tbody tr th:only-of-type {\n",
       "        vertical-align: middle;\n",
       "    }\n",
       "\n",
       "    .dataframe tbody tr th {\n",
       "        vertical-align: top;\n",
       "    }\n",
       "\n",
       "    .dataframe thead th {\n",
       "        text-align: right;\n",
       "    }\n",
       "</style>\n",
       "<table border=\"1\" class=\"dataframe\">\n",
       "  <thead>\n",
       "    <tr style=\"text-align: right;\">\n",
       "      <th></th>\n",
       "      <th>listing_id</th>\n",
       "      <th>date</th>\n",
       "      <th>price</th>\n",
       "    </tr>\n",
       "  </thead>\n",
       "  <tbody>\n",
       "    <tr>\n",
       "      <th>0</th>\n",
       "      <td>2818</td>\n",
       "      <td>2019-12-05</td>\n",
       "      <td>NaN</td>\n",
       "    </tr>\n",
       "    <tr>\n",
       "      <th>1</th>\n",
       "      <td>73208</td>\n",
       "      <td>2019-08-30</td>\n",
       "      <td>NaN</td>\n",
       "    </tr>\n",
       "    <tr>\n",
       "      <th>2</th>\n",
       "      <td>73208</td>\n",
       "      <td>2019-08-29</td>\n",
       "      <td>NaN</td>\n",
       "    </tr>\n",
       "    <tr>\n",
       "      <th>3</th>\n",
       "      <td>73208</td>\n",
       "      <td>2019-08-28</td>\n",
       "      <td>NaN</td>\n",
       "    </tr>\n",
       "    <tr>\n",
       "      <th>4</th>\n",
       "      <td>73208</td>\n",
       "      <td>2019-08-27</td>\n",
       "      <td>NaN</td>\n",
       "    </tr>\n",
       "  </tbody>\n",
       "</table>\n",
       "</div>"
      ],
      "text/plain": [
       "   listing_id        date price\n",
       "0        2818  2019-12-05   NaN\n",
       "1       73208  2019-08-30   NaN\n",
       "2       73208  2019-08-29   NaN\n",
       "3       73208  2019-08-28   NaN\n",
       "4       73208  2019-08-27   NaN"
      ]
     },
     "execution_count": 10,
     "metadata": {},
     "output_type": "execute_result"
    }
   ],
   "source": [
    "df_calendar.head(5)"
   ]
  },
  {
   "cell_type": "code",
   "execution_count": 11,
   "id": "cf2e46e3",
   "metadata": {},
   "outputs": [
    {
     "data": {
      "text/html": [
       "<div>\n",
       "<style scoped>\n",
       "    .dataframe tbody tr th:only-of-type {\n",
       "        vertical-align: middle;\n",
       "    }\n",
       "\n",
       "    .dataframe tbody tr th {\n",
       "        vertical-align: top;\n",
       "    }\n",
       "\n",
       "    .dataframe thead th {\n",
       "        text-align: right;\n",
       "    }\n",
       "</style>\n",
       "<table border=\"1\" class=\"dataframe\">\n",
       "  <thead>\n",
       "    <tr style=\"text-align: right;\">\n",
       "      <th></th>\n",
       "      <th>listing_id</th>\n",
       "      <th>date</th>\n",
       "      <th>price</th>\n",
       "    </tr>\n",
       "  </thead>\n",
       "  <tbody>\n",
       "    <tr>\n",
       "      <th>240</th>\n",
       "      <td>255809</td>\n",
       "      <td>2019-12-05</td>\n",
       "      <td>$150.00</td>\n",
       "    </tr>\n",
       "    <tr>\n",
       "      <th>241</th>\n",
       "      <td>255809</td>\n",
       "      <td>2019-12-04</td>\n",
       "      <td>$150.00</td>\n",
       "    </tr>\n",
       "    <tr>\n",
       "      <th>242</th>\n",
       "      <td>255809</td>\n",
       "      <td>2019-12-03</td>\n",
       "      <td>$150.00</td>\n",
       "    </tr>\n",
       "    <tr>\n",
       "      <th>243</th>\n",
       "      <td>255809</td>\n",
       "      <td>2019-12-02</td>\n",
       "      <td>$150.00</td>\n",
       "    </tr>\n",
       "    <tr>\n",
       "      <th>244</th>\n",
       "      <td>255809</td>\n",
       "      <td>2019-12-01</td>\n",
       "      <td>$150.00</td>\n",
       "    </tr>\n",
       "    <tr>\n",
       "      <th>...</th>\n",
       "      <td>...</td>\n",
       "      <td>...</td>\n",
       "      <td>...</td>\n",
       "    </tr>\n",
       "    <tr>\n",
       "      <th>7310945</th>\n",
       "      <td>29979667</td>\n",
       "      <td>2018-12-11</td>\n",
       "      <td>$139.00</td>\n",
       "    </tr>\n",
       "    <tr>\n",
       "      <th>7310946</th>\n",
       "      <td>29979667</td>\n",
       "      <td>2018-12-10</td>\n",
       "      <td>$139.00</td>\n",
       "    </tr>\n",
       "    <tr>\n",
       "      <th>7310947</th>\n",
       "      <td>29979667</td>\n",
       "      <td>2018-12-09</td>\n",
       "      <td>$139.00</td>\n",
       "    </tr>\n",
       "    <tr>\n",
       "      <th>7310948</th>\n",
       "      <td>29979667</td>\n",
       "      <td>2018-12-08</td>\n",
       "      <td>$139.00</td>\n",
       "    </tr>\n",
       "    <tr>\n",
       "      <th>7310949</th>\n",
       "      <td>29979667</td>\n",
       "      <td>2018-12-07</td>\n",
       "      <td>$139.00</td>\n",
       "    </tr>\n",
       "  </tbody>\n",
       "</table>\n",
       "<p>1200071 rows × 3 columns</p>\n",
       "</div>"
      ],
      "text/plain": [
       "         listing_id        date    price\n",
       "240          255809  2019-12-05  $150.00\n",
       "241          255809  2019-12-04  $150.00\n",
       "242          255809  2019-12-03  $150.00\n",
       "243          255809  2019-12-02  $150.00\n",
       "244          255809  2019-12-01  $150.00\n",
       "...             ...         ...      ...\n",
       "7310945    29979667  2018-12-11  $139.00\n",
       "7310946    29979667  2018-12-10  $139.00\n",
       "7310947    29979667  2018-12-09  $139.00\n",
       "7310948    29979667  2018-12-08  $139.00\n",
       "7310949    29979667  2018-12-07  $139.00\n",
       "\n",
       "[1200071 rows x 3 columns]"
      ]
     },
     "execution_count": 11,
     "metadata": {},
     "output_type": "execute_result"
    }
   ],
   "source": [
    "df_calendar.dropna()"
   ]
  },
  {
   "cell_type": "code",
   "execution_count": 12,
   "id": "6df3d69f",
   "metadata": {},
   "outputs": [
    {
     "data": {
      "text/plain": [
       "Index(['listing_id', 'date', 'price'], dtype='object')"
      ]
     },
     "execution_count": 12,
     "metadata": {},
     "output_type": "execute_result"
    }
   ],
   "source": [
    "df_calendar.columns"
   ]
  },
  {
   "cell_type": "code",
   "execution_count": 13,
   "id": "0bc126af",
   "metadata": {},
   "outputs": [
    {
     "data": {
      "text/plain": [
       "pandas.core.frame.DataFrame"
      ]
     },
     "execution_count": 13,
     "metadata": {},
     "output_type": "execute_result"
    }
   ],
   "source": [
    "type(df_calendar)"
   ]
  },
  {
   "cell_type": "code",
   "execution_count": 14,
   "id": "73ad52bc",
   "metadata": {},
   "outputs": [],
   "source": [
    "# Reset index so that you can use the \"Date\" column as a filter\n",
    "\n",
    "df_calendar_2 = df_calendar.reset_index()"
   ]
  },
  {
   "cell_type": "code",
   "execution_count": 15,
   "id": "ca3f11db",
   "metadata": {},
   "outputs": [
    {
     "data": {
      "text/html": [
       "<div>\n",
       "<style scoped>\n",
       "    .dataframe tbody tr th:only-of-type {\n",
       "        vertical-align: middle;\n",
       "    }\n",
       "\n",
       "    .dataframe tbody tr th {\n",
       "        vertical-align: top;\n",
       "    }\n",
       "\n",
       "    .dataframe thead th {\n",
       "        text-align: right;\n",
       "    }\n",
       "</style>\n",
       "<table border=\"1\" class=\"dataframe\">\n",
       "  <thead>\n",
       "    <tr style=\"text-align: right;\">\n",
       "      <th></th>\n",
       "      <th>index</th>\n",
       "      <th>listing_id</th>\n",
       "      <th>price</th>\n",
       "    </tr>\n",
       "    <tr>\n",
       "      <th>datetime</th>\n",
       "      <th></th>\n",
       "      <th></th>\n",
       "      <th></th>\n",
       "    </tr>\n",
       "  </thead>\n",
       "  <tbody>\n",
       "    <tr>\n",
       "      <th>2019-12-05</th>\n",
       "      <td>0</td>\n",
       "      <td>2818</td>\n",
       "      <td>NaN</td>\n",
       "    </tr>\n",
       "    <tr>\n",
       "      <th>2019-08-30</th>\n",
       "      <td>1</td>\n",
       "      <td>73208</td>\n",
       "      <td>NaN</td>\n",
       "    </tr>\n",
       "    <tr>\n",
       "      <th>2019-08-29</th>\n",
       "      <td>2</td>\n",
       "      <td>73208</td>\n",
       "      <td>NaN</td>\n",
       "    </tr>\n",
       "    <tr>\n",
       "      <th>2019-08-28</th>\n",
       "      <td>3</td>\n",
       "      <td>73208</td>\n",
       "      <td>NaN</td>\n",
       "    </tr>\n",
       "    <tr>\n",
       "      <th>2019-08-27</th>\n",
       "      <td>4</td>\n",
       "      <td>73208</td>\n",
       "      <td>NaN</td>\n",
       "    </tr>\n",
       "  </tbody>\n",
       "</table>\n",
       "</div>"
      ],
      "text/plain": [
       "            index  listing_id price\n",
       "datetime                           \n",
       "2019-12-05      0        2818   NaN\n",
       "2019-08-30      1       73208   NaN\n",
       "2019-08-29      2       73208   NaN\n",
       "2019-08-28      3       73208   NaN\n",
       "2019-08-27      4       73208   NaN"
      ]
     },
     "execution_count": 15,
     "metadata": {},
     "output_type": "execute_result"
    }
   ],
   "source": [
    "# Set the \"Date\" column as the index\n",
    "\n",
    "from datetime import datetime\n",
    "\n",
    "df_calendar_2['datetime'] = pd.to_datetime(df_calendar_2['date']) # Create a datetime column from \"Date.\"\"\n",
    "df_calendar_2 = df_calendar_2.set_index('datetime') # Set the datetime as the index of the dataframe.\n",
    "df_calendar_2.drop(['date'], axis=1, inplace=True) # Drop the \"Date\" column.\n",
    "df_calendar_2.head()"
   ]
  },
  {
   "cell_type": "code",
   "execution_count": 16,
   "id": "f39f2508",
   "metadata": {},
   "outputs": [
    {
     "data": {
      "text/html": [
       "<div>\n",
       "<style scoped>\n",
       "    .dataframe tbody tr th:only-of-type {\n",
       "        vertical-align: middle;\n",
       "    }\n",
       "\n",
       "    .dataframe tbody tr th {\n",
       "        vertical-align: top;\n",
       "    }\n",
       "\n",
       "    .dataframe thead th {\n",
       "        text-align: right;\n",
       "    }\n",
       "</style>\n",
       "<table border=\"1\" class=\"dataframe\">\n",
       "  <thead>\n",
       "    <tr style=\"text-align: right;\">\n",
       "      <th></th>\n",
       "      <th>index</th>\n",
       "      <th>listing_id</th>\n",
       "      <th>price</th>\n",
       "    </tr>\n",
       "    <tr>\n",
       "      <th>datetime</th>\n",
       "      <th></th>\n",
       "      <th></th>\n",
       "      <th></th>\n",
       "    </tr>\n",
       "  </thead>\n",
       "  <tbody>\n",
       "    <tr>\n",
       "      <th>2019-12-05</th>\n",
       "      <td>240</td>\n",
       "      <td>255809</td>\n",
       "      <td>$150.00</td>\n",
       "    </tr>\n",
       "    <tr>\n",
       "      <th>2019-12-04</th>\n",
       "      <td>241</td>\n",
       "      <td>255809</td>\n",
       "      <td>$150.00</td>\n",
       "    </tr>\n",
       "    <tr>\n",
       "      <th>2019-12-03</th>\n",
       "      <td>242</td>\n",
       "      <td>255809</td>\n",
       "      <td>$150.00</td>\n",
       "    </tr>\n",
       "    <tr>\n",
       "      <th>2019-12-02</th>\n",
       "      <td>243</td>\n",
       "      <td>255809</td>\n",
       "      <td>$150.00</td>\n",
       "    </tr>\n",
       "    <tr>\n",
       "      <th>2019-12-01</th>\n",
       "      <td>244</td>\n",
       "      <td>255809</td>\n",
       "      <td>$150.00</td>\n",
       "    </tr>\n",
       "    <tr>\n",
       "      <th>...</th>\n",
       "      <td>...</td>\n",
       "      <td>...</td>\n",
       "      <td>...</td>\n",
       "    </tr>\n",
       "    <tr>\n",
       "      <th>2018-12-11</th>\n",
       "      <td>7310945</td>\n",
       "      <td>29979667</td>\n",
       "      <td>$139.00</td>\n",
       "    </tr>\n",
       "    <tr>\n",
       "      <th>2018-12-10</th>\n",
       "      <td>7310946</td>\n",
       "      <td>29979667</td>\n",
       "      <td>$139.00</td>\n",
       "    </tr>\n",
       "    <tr>\n",
       "      <th>2018-12-09</th>\n",
       "      <td>7310947</td>\n",
       "      <td>29979667</td>\n",
       "      <td>$139.00</td>\n",
       "    </tr>\n",
       "    <tr>\n",
       "      <th>2018-12-08</th>\n",
       "      <td>7310948</td>\n",
       "      <td>29979667</td>\n",
       "      <td>$139.00</td>\n",
       "    </tr>\n",
       "    <tr>\n",
       "      <th>2018-12-07</th>\n",
       "      <td>7310949</td>\n",
       "      <td>29979667</td>\n",
       "      <td>$139.00</td>\n",
       "    </tr>\n",
       "  </tbody>\n",
       "</table>\n",
       "<p>1200071 rows × 3 columns</p>\n",
       "</div>"
      ],
      "text/plain": [
       "              index  listing_id    price\n",
       "datetime                                \n",
       "2019-12-05      240      255809  $150.00\n",
       "2019-12-04      241      255809  $150.00\n",
       "2019-12-03      242      255809  $150.00\n",
       "2019-12-02      243      255809  $150.00\n",
       "2019-12-01      244      255809  $150.00\n",
       "...             ...         ...      ...\n",
       "2018-12-11  7310945    29979667  $139.00\n",
       "2018-12-10  7310946    29979667  $139.00\n",
       "2018-12-09  7310947    29979667  $139.00\n",
       "2018-12-08  7310948    29979667  $139.00\n",
       "2018-12-07  7310949    29979667  $139.00\n",
       "\n",
       "[1200071 rows x 3 columns]"
      ]
     },
     "execution_count": 16,
     "metadata": {},
     "output_type": "execute_result"
    }
   ],
   "source": [
    "df_calendar_2.dropna()"
   ]
  },
  {
   "cell_type": "code",
   "execution_count": 17,
   "id": "72786378",
   "metadata": {},
   "outputs": [
    {
     "data": {
      "text/plain": [
       "(7310950, 3)"
      ]
     },
     "execution_count": 17,
     "metadata": {},
     "output_type": "execute_result"
    }
   ],
   "source": [
    "df_calendar_2.shape"
   ]
  },
  {
   "cell_type": "code",
   "execution_count": 18,
   "id": "f12276a6",
   "metadata": {},
   "outputs": [],
   "source": [
    "df_calendar_3=df_calendar_2.dropna()"
   ]
  },
  {
   "cell_type": "code",
   "execution_count": 19,
   "id": "1dfc2728",
   "metadata": {},
   "outputs": [
    {
     "data": {
      "text/plain": [
       "(1200071, 3)"
      ]
     },
     "execution_count": 19,
     "metadata": {},
     "output_type": "execute_result"
    }
   ],
   "source": [
    "df_calendar_3.shape"
   ]
  },
  {
   "cell_type": "code",
   "execution_count": 20,
   "id": "e5b713be",
   "metadata": {},
   "outputs": [],
   "source": [
    "# Exporting cleaned dataframes\n",
    "df_calendar_3.to_csv(os.path.join(path, 'Data','Prepared Data', 'df_calendar_3_cleaned.csv'))"
   ]
  },
  {
   "cell_type": "code",
   "execution_count": 50,
   "id": "49d48d02",
   "metadata": {},
   "outputs": [],
   "source": [
    "# Importing dataframe without '$'\n",
    "df_calendar_3=pd.read_csv(os.path.join(path, 'Data', 'Prepared Data', 'df_calendar_3_cleaned.csv'), index_col = False)"
   ]
  },
  {
   "cell_type": "code",
   "execution_count": 51,
   "id": "98f304c6",
   "metadata": {},
   "outputs": [
    {
     "data": {
      "text/html": [
       "<div>\n",
       "<style scoped>\n",
       "    .dataframe tbody tr th:only-of-type {\n",
       "        vertical-align: middle;\n",
       "    }\n",
       "\n",
       "    .dataframe tbody tr th {\n",
       "        vertical-align: top;\n",
       "    }\n",
       "\n",
       "    .dataframe thead th {\n",
       "        text-align: right;\n",
       "    }\n",
       "</style>\n",
       "<table border=\"1\" class=\"dataframe\">\n",
       "  <thead>\n",
       "    <tr style=\"text-align: right;\">\n",
       "      <th></th>\n",
       "      <th>datetime</th>\n",
       "      <th>index</th>\n",
       "      <th>listing_id</th>\n",
       "      <th>price</th>\n",
       "    </tr>\n",
       "  </thead>\n",
       "  <tbody>\n",
       "    <tr>\n",
       "      <th>0</th>\n",
       "      <td>2019-12-05</td>\n",
       "      <td>240</td>\n",
       "      <td>255809</td>\n",
       "      <td>150</td>\n",
       "    </tr>\n",
       "    <tr>\n",
       "      <th>1</th>\n",
       "      <td>2019-12-04</td>\n",
       "      <td>241</td>\n",
       "      <td>255809</td>\n",
       "      <td>150</td>\n",
       "    </tr>\n",
       "    <tr>\n",
       "      <th>2</th>\n",
       "      <td>2019-12-03</td>\n",
       "      <td>242</td>\n",
       "      <td>255809</td>\n",
       "      <td>150</td>\n",
       "    </tr>\n",
       "    <tr>\n",
       "      <th>3</th>\n",
       "      <td>2019-12-02</td>\n",
       "      <td>243</td>\n",
       "      <td>255809</td>\n",
       "      <td>150</td>\n",
       "    </tr>\n",
       "    <tr>\n",
       "      <th>4</th>\n",
       "      <td>2019-12-01</td>\n",
       "      <td>244</td>\n",
       "      <td>255809</td>\n",
       "      <td>150</td>\n",
       "    </tr>\n",
       "    <tr>\n",
       "      <th>...</th>\n",
       "      <td>...</td>\n",
       "      <td>...</td>\n",
       "      <td>...</td>\n",
       "      <td>...</td>\n",
       "    </tr>\n",
       "    <tr>\n",
       "      <th>1048570</th>\n",
       "      <td>2019-03-09</td>\n",
       "      <td>6641526</td>\n",
       "      <td>27631850</td>\n",
       "      <td>75</td>\n",
       "    </tr>\n",
       "    <tr>\n",
       "      <th>1048571</th>\n",
       "      <td>2019-03-08</td>\n",
       "      <td>6641527</td>\n",
       "      <td>27631850</td>\n",
       "      <td>75</td>\n",
       "    </tr>\n",
       "    <tr>\n",
       "      <th>1048572</th>\n",
       "      <td>2019-03-07</td>\n",
       "      <td>6641528</td>\n",
       "      <td>27631850</td>\n",
       "      <td>75</td>\n",
       "    </tr>\n",
       "    <tr>\n",
       "      <th>1048573</th>\n",
       "      <td>2019-03-03</td>\n",
       "      <td>6641532</td>\n",
       "      <td>27631850</td>\n",
       "      <td>75</td>\n",
       "    </tr>\n",
       "    <tr>\n",
       "      <th>1048574</th>\n",
       "      <td>2019-03-02</td>\n",
       "      <td>6641533</td>\n",
       "      <td>27631850</td>\n",
       "      <td>75</td>\n",
       "    </tr>\n",
       "  </tbody>\n",
       "</table>\n",
       "<p>1048575 rows × 4 columns</p>\n",
       "</div>"
      ],
      "text/plain": [
       "           datetime    index  listing_id price\n",
       "0        2019-12-05      240      255809  150 \n",
       "1        2019-12-04      241      255809  150 \n",
       "2        2019-12-03      242      255809  150 \n",
       "3        2019-12-02      243      255809  150 \n",
       "4        2019-12-01      244      255809  150 \n",
       "...             ...      ...         ...   ...\n",
       "1048570  2019-03-09  6641526    27631850   75 \n",
       "1048571  2019-03-08  6641527    27631850   75 \n",
       "1048572  2019-03-07  6641528    27631850   75 \n",
       "1048573  2019-03-03  6641532    27631850   75 \n",
       "1048574  2019-03-02  6641533    27631850   75 \n",
       "\n",
       "[1048575 rows x 4 columns]"
      ]
     },
     "execution_count": 51,
     "metadata": {},
     "output_type": "execute_result"
    }
   ],
   "source": [
    "df_calendar_3"
   ]
  },
  {
   "cell_type": "code",
   "execution_count": 52,
   "id": "7f1cf9f0",
   "metadata": {},
   "outputs": [],
   "source": [
    "# Reset index so that you can use the \"Date\" column as a filter\n",
    "\n",
    "df_calendar = df_calendar_3.reset_index()"
   ]
  },
  {
   "cell_type": "code",
   "execution_count": 53,
   "id": "2b7d6408",
   "metadata": {},
   "outputs": [
    {
     "data": {
      "text/html": [
       "<div>\n",
       "<style scoped>\n",
       "    .dataframe tbody tr th:only-of-type {\n",
       "        vertical-align: middle;\n",
       "    }\n",
       "\n",
       "    .dataframe tbody tr th {\n",
       "        vertical-align: top;\n",
       "    }\n",
       "\n",
       "    .dataframe thead th {\n",
       "        text-align: right;\n",
       "    }\n",
       "</style>\n",
       "<table border=\"1\" class=\"dataframe\">\n",
       "  <thead>\n",
       "    <tr style=\"text-align: right;\">\n",
       "      <th></th>\n",
       "      <th>level_0</th>\n",
       "      <th>datetime</th>\n",
       "      <th>index</th>\n",
       "      <th>listing_id</th>\n",
       "      <th>price</th>\n",
       "    </tr>\n",
       "  </thead>\n",
       "  <tbody>\n",
       "    <tr>\n",
       "      <th>0</th>\n",
       "      <td>0</td>\n",
       "      <td>2019-12-05</td>\n",
       "      <td>240</td>\n",
       "      <td>255809</td>\n",
       "      <td>150</td>\n",
       "    </tr>\n",
       "    <tr>\n",
       "      <th>1</th>\n",
       "      <td>1</td>\n",
       "      <td>2019-12-04</td>\n",
       "      <td>241</td>\n",
       "      <td>255809</td>\n",
       "      <td>150</td>\n",
       "    </tr>\n",
       "    <tr>\n",
       "      <th>2</th>\n",
       "      <td>2</td>\n",
       "      <td>2019-12-03</td>\n",
       "      <td>242</td>\n",
       "      <td>255809</td>\n",
       "      <td>150</td>\n",
       "    </tr>\n",
       "    <tr>\n",
       "      <th>3</th>\n",
       "      <td>3</td>\n",
       "      <td>2019-12-02</td>\n",
       "      <td>243</td>\n",
       "      <td>255809</td>\n",
       "      <td>150</td>\n",
       "    </tr>\n",
       "    <tr>\n",
       "      <th>4</th>\n",
       "      <td>4</td>\n",
       "      <td>2019-12-01</td>\n",
       "      <td>244</td>\n",
       "      <td>255809</td>\n",
       "      <td>150</td>\n",
       "    </tr>\n",
       "  </tbody>\n",
       "</table>\n",
       "</div>"
      ],
      "text/plain": [
       "   level_0    datetime  index  listing_id price\n",
       "0        0  2019-12-05    240      255809  150 \n",
       "1        1  2019-12-04    241      255809  150 \n",
       "2        2  2019-12-03    242      255809  150 \n",
       "3        3  2019-12-02    243      255809  150 \n",
       "4        4  2019-12-01    244      255809  150 "
      ]
     },
     "execution_count": 53,
     "metadata": {},
     "output_type": "execute_result"
    }
   ],
   "source": [
    "df_calendar.head(5)"
   ]
  },
  {
   "cell_type": "code",
   "execution_count": 54,
   "id": "2e2d9ff3",
   "metadata": {},
   "outputs": [],
   "source": [
    "df_calendar.drop('level_0', axis=1, inplace=True)"
   ]
  },
  {
   "cell_type": "code",
   "execution_count": 55,
   "id": "d8685c4d",
   "metadata": {},
   "outputs": [],
   "source": [
    "df_calendar.drop('index', axis=1, inplace=True)"
   ]
  },
  {
   "cell_type": "code",
   "execution_count": 56,
   "id": "23dbcd3f",
   "metadata": {},
   "outputs": [],
   "source": [
    "df_calendar.drop('listing_id', axis=1, inplace=True)"
   ]
  },
  {
   "cell_type": "code",
   "execution_count": 57,
   "id": "188b6d3f",
   "metadata": {},
   "outputs": [
    {
     "data": {
      "text/html": [
       "<div>\n",
       "<style scoped>\n",
       "    .dataframe tbody tr th:only-of-type {\n",
       "        vertical-align: middle;\n",
       "    }\n",
       "\n",
       "    .dataframe tbody tr th {\n",
       "        vertical-align: top;\n",
       "    }\n",
       "\n",
       "    .dataframe thead th {\n",
       "        text-align: right;\n",
       "    }\n",
       "</style>\n",
       "<table border=\"1\" class=\"dataframe\">\n",
       "  <thead>\n",
       "    <tr style=\"text-align: right;\">\n",
       "      <th></th>\n",
       "      <th>datetime</th>\n",
       "      <th>price</th>\n",
       "    </tr>\n",
       "  </thead>\n",
       "  <tbody>\n",
       "    <tr>\n",
       "      <th>0</th>\n",
       "      <td>2019-12-05</td>\n",
       "      <td>150</td>\n",
       "    </tr>\n",
       "    <tr>\n",
       "      <th>1</th>\n",
       "      <td>2019-12-04</td>\n",
       "      <td>150</td>\n",
       "    </tr>\n",
       "    <tr>\n",
       "      <th>2</th>\n",
       "      <td>2019-12-03</td>\n",
       "      <td>150</td>\n",
       "    </tr>\n",
       "    <tr>\n",
       "      <th>3</th>\n",
       "      <td>2019-12-02</td>\n",
       "      <td>150</td>\n",
       "    </tr>\n",
       "    <tr>\n",
       "      <th>4</th>\n",
       "      <td>2019-12-01</td>\n",
       "      <td>150</td>\n",
       "    </tr>\n",
       "  </tbody>\n",
       "</table>\n",
       "</div>"
      ],
      "text/plain": [
       "     datetime price\n",
       "0  2019-12-05  150 \n",
       "1  2019-12-04  150 \n",
       "2  2019-12-03  150 \n",
       "3  2019-12-02  150 \n",
       "4  2019-12-01  150 "
      ]
     },
     "execution_count": 57,
     "metadata": {},
     "output_type": "execute_result"
    }
   ],
   "source": [
    "df_calendar.head(5)"
   ]
  },
  {
   "cell_type": "code",
   "execution_count": null,
   "id": "96463ca3",
   "metadata": {},
   "outputs": [],
   "source": []
  },
  {
   "cell_type": "markdown",
   "id": "7ae2dde8",
   "metadata": {},
   "source": [
    "# Plotting Data"
   ]
  },
  {
   "cell_type": "code",
   "execution_count": 81,
   "id": "673efb11",
   "metadata": {},
   "outputs": [],
   "source": [
    "arr = np.array('df_calendar')"
   ]
  },
  {
   "cell_type": "code",
   "execution_count": 82,
   "id": "11ca69b2",
   "metadata": {},
   "outputs": [],
   "source": [
    "# Concert to tuple\n",
    "df_calendar = tuple(df_calendar)\n",
    "my_dict = {df_calendar: 'value'}"
   ]
  },
  {
   "cell_type": "code",
   "execution_count": 83,
   "id": "642a5734",
   "metadata": {},
   "outputs": [
    {
     "data": {
      "text/plain": [
       "[<matplotlib.lines.Line2D at 0x1bba09b6890>]"
      ]
     },
     "execution_count": 83,
     "metadata": {},
     "output_type": "execute_result"
    },
    {
     "data": {
      "image/png": "[encoded data removed]",
      "text/plain": [
       "<Figure size 1500x500 with 1 Axes>"
      ]
     },
     "metadata": {},
     "output_type": "display_data"
    }
   ],
   "source": [
    "# Plot the data using matplotlib.\n",
    "\n",
    "plt.figure(figsize=(15,5), dpi=100) # The dpi argument controls the quality of the visualization here. When it's set to 100,\n",
    "# it will produce lower-than-standard quality, which is useful if, similar to this notebook, you'll have a lot of plots.\n",
    "# A large number of plots will increase the size of the notebook, which could take more time to load and eat up a lot of RAM!\n",
    "\n",
    "plt.plot(df_calendar)"
   ]
  },
  {
   "cell_type": "markdown",
   "id": "242a4a23",
   "metadata": {},
   "source": [
    "# Decomposition"
   ]
  },
  {
   "cell_type": "code",
   "execution_count": null,
   "id": "b75481a7",
   "metadata": {},
   "outputs": [],
   "source": [
    "# Attempt to change type from string to integer\n",
    "df_calendar['datetime'] = df_calendar['datetime'].astype('int64')"
   ]
  },
  {
   "cell_type": "code",
   "execution_count": null,
   "id": "9a8207d5",
   "metadata": {},
   "outputs": [],
   "source": [
    "# Attempt to index again\n",
    "\n",
    "# Set the \"Date\" column as the index\n",
    "\n",
    "from datetime import datetime\n",
    "\n",
    "df_calendar['datetime'] = pd.to_datetime(df_calendar['datetime']) # Create a datetime column from \"Date.\"\"\n",
    "df_calendar = df_calendar.set_index('datetime') # Set the datetime as the index of the dataframe.\n",
    "df_calendar.drop(['Date'], axis=1, inplace=True) # Drop the \"Date\" column.\n",
    "df_calendar.head()"
   ]
  },
  {
   "cell_type": "code",
   "execution_count": null,
   "id": "6eb4fb72",
   "metadata": {},
   "outputs": [],
   "source": [
    "# Decompose the time series using an additive model\n",
    "\n",
    "decomposition = sm.tsa.seasonal_decompose(df_calendar, model='additive')"
   ]
  },
  {
   "cell_type": "code",
   "execution_count": null,
   "id": "754e848f",
   "metadata": {},
   "outputs": [],
   "source": []
  }
 ],
 "metadata": {
  "kernelspec": {
   "display_name": "Python 3 (ipykernel)",
   "language": "python",
   "name": "python3"
  },
  "language_info": {
   "codemirror_mode": {
    "name": "ipython",
    "version": 3
   },
   "file_extension": ".py",
   "mimetype": "text/x-python",
   "name": "python",
   "nbconvert_exporter": "python",
   "pygments_lexer": "ipython3",
   "version": "3.10.9"
  }
 },
 "nbformat": 4,
 "nbformat_minor": 5
}
