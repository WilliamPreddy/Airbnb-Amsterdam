{
 "cells": [
  {
   "cell_type": "markdown",
   "id": "fff3c992",
   "metadata": {},
   "source": [
    "# Import Libraries and Databases"
   ]
  },
  {
   "cell_type": "code",
   "execution_count": 1,
   "id": "87bdecea",
   "metadata": {},
   "outputs": [],
   "source": [
    "# Import libraries\n",
    "import pandas as pd\n",
    "import numpy as np\n",
    "import os"
   ]
  },
  {
   "cell_type": "code",
   "execution_count": 2,
   "id": "20003629",
   "metadata": {},
   "outputs": [],
   "source": [
    "#Import databases\n",
    "path=r'C:\\Users\\William\\July-2023 Airbnb Amsterdam'"
   ]
  },
  {
   "cell_type": "code",
   "execution_count": 3,
   "id": "f6024e49",
   "metadata": {},
   "outputs": [],
   "source": [
    "df_calendar=pd.read_csv(os.path.join(path, 'Data', 'Original Data', 'archive', 'calendar.csv'), index_col = False)"
   ]
  },
  {
   "cell_type": "code",
   "execution_count": 4,
   "id": "b01173c5",
   "metadata": {},
   "outputs": [],
   "source": [
    "df_listings=pd.read_csv(os.path.join(path, 'Data', 'Original Data', 'archive', 'listings.csv'), index_col = False)"
   ]
  },
  {
   "cell_type": "code",
   "execution_count": 5,
   "id": "4eb779fd",
   "metadata": {},
   "outputs": [
    {
     "name": "stderr",
     "output_type": "stream",
     "text": [
      "C:\\Users\\William\\AppData\\Local\\Temp\\ipykernel_12588\\666114683.py:1: DtypeWarning: Columns (87) have mixed types. Specify dtype option on import or set low_memory=False.\n",
      "  df_listings_dets=pd.read_csv(os.path.join(path, 'Data', 'Original Data', 'archive', 'listings_details.csv'), index_col = False)\n"
     ]
    }
   ],
   "source": [
    "df_listings_dets=pd.read_csv(os.path.join(path, 'Data', 'Original Data', 'archive', 'listings_details.csv'), index_col = False)"
   ]
  },
  {
   "cell_type": "code",
   "execution_count": 6,
   "id": "ac9c7828",
   "metadata": {},
   "outputs": [],
   "source": [
    "df_neighbourhoods=pd.read_csv(os.path.join(path, 'Data', 'Original Data', 'archive', 'neighbourhoods.csv'), index_col = False)"
   ]
  },
  {
   "cell_type": "code",
   "execution_count": 7,
   "id": "c87984a9",
   "metadata": {},
   "outputs": [],
   "source": [
    "df_reviews=pd.read_csv(os.path.join(path, 'Data', 'Original Data', 'archive', 'reviews.csv'), index_col = False)"
   ]
  },
  {
   "cell_type": "code",
   "execution_count": 8,
   "id": "2ab287f2",
   "metadata": {},
   "outputs": [],
   "source": [
    "df_reviews_dets=pd.read_csv(os.path.join(path, 'Data', 'Original Data', 'archive', 'reviews_details.csv'), index_col = False)"
   ]
  },
  {
   "cell_type": "markdown",
   "id": "823d7273",
   "metadata": {},
   "source": [
    "# Dropping Columns"
   ]
  },
  {
   "cell_type": "code",
   "execution_count": 9,
   "id": "1dc8d586",
   "metadata": {},
   "outputs": [],
   "source": [
    "# Dropping columns in Listing database\n",
    "df_listings_2 = df_listings.drop(columns = ['neighbourhood_group'])"
   ]
  },
  {
   "cell_type": "code",
   "execution_count": 10,
   "id": "8ba1c645",
   "metadata": {},
   "outputs": [],
   "source": [
    "# Dropping columns in Listing Details database\n",
    "df_listings_dets_2 = df_listings_dets.drop(columns = ['neighbourhood_group_cleansed', 'thumbnail_url','medium_url','xl_picture_url','host_acceptance_rate'])"
   ]
  },
  {
   "cell_type": "code",
   "execution_count": 11,
   "id": "6f0a06d7",
   "metadata": {},
   "outputs": [],
   "source": [
    "# Dropping columns in Neighbourhoods database\n",
    "df_neighbourhoods_2 = df_neighbourhoods.drop(columns = ['neighbourhood_group'])"
   ]
  },
  {
   "cell_type": "code",
   "execution_count": 12,
   "id": "5c7e030b",
   "metadata": {},
   "outputs": [
    {
     "data": {
      "text/html": [
       "<div>\n",
       "<style scoped>\n",
       "    .dataframe tbody tr th:only-of-type {\n",
       "        vertical-align: middle;\n",
       "    }\n",
       "\n",
       "    .dataframe tbody tr th {\n",
       "        vertical-align: top;\n",
       "    }\n",
       "\n",
       "    .dataframe thead th {\n",
       "        text-align: right;\n",
       "    }\n",
       "</style>\n",
       "<table border=\"1\" class=\"dataframe\">\n",
       "  <thead>\n",
       "    <tr style=\"text-align: right;\">\n",
       "      <th></th>\n",
       "      <th>id</th>\n",
       "      <th>name</th>\n",
       "      <th>host_id</th>\n",
       "      <th>host_name</th>\n",
       "      <th>neighbourhood</th>\n",
       "      <th>latitude</th>\n",
       "      <th>longitude</th>\n",
       "      <th>room_type</th>\n",
       "      <th>price</th>\n",
       "      <th>minimum_nights</th>\n",
       "      <th>number_of_reviews</th>\n",
       "      <th>last_review</th>\n",
       "      <th>reviews_per_month</th>\n",
       "      <th>calculated_host_listings_count</th>\n",
       "      <th>availability_365</th>\n",
       "    </tr>\n",
       "  </thead>\n",
       "  <tbody>\n",
       "    <tr>\n",
       "      <th>0</th>\n",
       "      <td>2818</td>\n",
       "      <td>Quiet Garden View Room &amp; Super Fast WiFi</td>\n",
       "      <td>3159</td>\n",
       "      <td>Daniel</td>\n",
       "      <td>Oostelijk Havengebied - Indische Buurt</td>\n",
       "      <td>52.365755</td>\n",
       "      <td>4.941419</td>\n",
       "      <td>Private room</td>\n",
       "      <td>59</td>\n",
       "      <td>3</td>\n",
       "      <td>248</td>\n",
       "      <td>2018-11-28</td>\n",
       "      <td>2.10</td>\n",
       "      <td>1</td>\n",
       "      <td>44</td>\n",
       "    </tr>\n",
       "    <tr>\n",
       "      <th>1</th>\n",
       "      <td>3209</td>\n",
       "      <td>Quiet apt near center, great view</td>\n",
       "      <td>3806</td>\n",
       "      <td>Maartje</td>\n",
       "      <td>Westerpark</td>\n",
       "      <td>52.390225</td>\n",
       "      <td>4.873924</td>\n",
       "      <td>Entire home/apt</td>\n",
       "      <td>160</td>\n",
       "      <td>4</td>\n",
       "      <td>42</td>\n",
       "      <td>2018-08-29</td>\n",
       "      <td>1.03</td>\n",
       "      <td>1</td>\n",
       "      <td>47</td>\n",
       "    </tr>\n",
       "    <tr>\n",
       "      <th>2</th>\n",
       "      <td>20168</td>\n",
       "      <td>100%Centre-Studio 1 Private Floor/Bathroom</td>\n",
       "      <td>59484</td>\n",
       "      <td>Alex</td>\n",
       "      <td>Centrum-Oost</td>\n",
       "      <td>52.365087</td>\n",
       "      <td>4.893541</td>\n",
       "      <td>Entire home/apt</td>\n",
       "      <td>80</td>\n",
       "      <td>1</td>\n",
       "      <td>233</td>\n",
       "      <td>2018-11-30</td>\n",
       "      <td>2.18</td>\n",
       "      <td>2</td>\n",
       "      <td>198</td>\n",
       "    </tr>\n",
       "    <tr>\n",
       "      <th>3</th>\n",
       "      <td>25428</td>\n",
       "      <td>Lovely apt in City Centre (Jordaan)</td>\n",
       "      <td>56142</td>\n",
       "      <td>Joan</td>\n",
       "      <td>Centrum-West</td>\n",
       "      <td>52.373114</td>\n",
       "      <td>4.883668</td>\n",
       "      <td>Entire home/apt</td>\n",
       "      <td>125</td>\n",
       "      <td>14</td>\n",
       "      <td>1</td>\n",
       "      <td>2018-01-21</td>\n",
       "      <td>0.09</td>\n",
       "      <td>2</td>\n",
       "      <td>141</td>\n",
       "    </tr>\n",
       "    <tr>\n",
       "      <th>4</th>\n",
       "      <td>27886</td>\n",
       "      <td>Romantic, stylish B&amp;B houseboat in canal district</td>\n",
       "      <td>97647</td>\n",
       "      <td>Flip</td>\n",
       "      <td>Centrum-West</td>\n",
       "      <td>52.386727</td>\n",
       "      <td>4.892078</td>\n",
       "      <td>Private room</td>\n",
       "      <td>150</td>\n",
       "      <td>2</td>\n",
       "      <td>171</td>\n",
       "      <td>2018-11-25</td>\n",
       "      <td>2.03</td>\n",
       "      <td>1</td>\n",
       "      <td>199</td>\n",
       "    </tr>\n",
       "    <tr>\n",
       "      <th>5</th>\n",
       "      <td>28658</td>\n",
       "      <td>Cosy guest room near city centre -1</td>\n",
       "      <td>123414</td>\n",
       "      <td>Michele</td>\n",
       "      <td>Bos en Lommer</td>\n",
       "      <td>52.375342</td>\n",
       "      <td>4.857289</td>\n",
       "      <td>Private room</td>\n",
       "      <td>65</td>\n",
       "      <td>3</td>\n",
       "      <td>434</td>\n",
       "      <td>2018-11-19</td>\n",
       "      <td>4.16</td>\n",
       "      <td>2</td>\n",
       "      <td>295</td>\n",
       "    </tr>\n",
       "    <tr>\n",
       "      <th>6</th>\n",
       "      <td>28871</td>\n",
       "      <td>Comfortable double room</td>\n",
       "      <td>124245</td>\n",
       "      <td>Edwin</td>\n",
       "      <td>Centrum-West</td>\n",
       "      <td>52.367187</td>\n",
       "      <td>4.890918</td>\n",
       "      <td>Private room</td>\n",
       "      <td>75</td>\n",
       "      <td>2</td>\n",
       "      <td>215</td>\n",
       "      <td>2018-12-03</td>\n",
       "      <td>2.13</td>\n",
       "      <td>3</td>\n",
       "      <td>137</td>\n",
       "    </tr>\n",
       "    <tr>\n",
       "      <th>7</th>\n",
       "      <td>29051</td>\n",
       "      <td>Comfortable single room</td>\n",
       "      <td>124245</td>\n",
       "      <td>Edwin</td>\n",
       "      <td>Centrum-West</td>\n",
       "      <td>52.367725</td>\n",
       "      <td>4.891512</td>\n",
       "      <td>Private room</td>\n",
       "      <td>55</td>\n",
       "      <td>2</td>\n",
       "      <td>383</td>\n",
       "      <td>2018-12-05</td>\n",
       "      <td>4.07</td>\n",
       "      <td>3</td>\n",
       "      <td>188</td>\n",
       "    </tr>\n",
       "    <tr>\n",
       "      <th>8</th>\n",
       "      <td>31080</td>\n",
       "      <td>2-story apartment + rooftop terrace</td>\n",
       "      <td>133488</td>\n",
       "      <td>Nienke</td>\n",
       "      <td>Zuid</td>\n",
       "      <td>52.351321</td>\n",
       "      <td>4.848383</td>\n",
       "      <td>Entire home/apt</td>\n",
       "      <td>219</td>\n",
       "      <td>3</td>\n",
       "      <td>32</td>\n",
       "      <td>2017-10-16</td>\n",
       "      <td>0.36</td>\n",
       "      <td>1</td>\n",
       "      <td>336</td>\n",
       "    </tr>\n",
       "    <tr>\n",
       "      <th>9</th>\n",
       "      <td>41125</td>\n",
       "      <td>Amsterdam Center Entire Apartment</td>\n",
       "      <td>178515</td>\n",
       "      <td>Fatih</td>\n",
       "      <td>Centrum-West</td>\n",
       "      <td>52.378915</td>\n",
       "      <td>4.883205</td>\n",
       "      <td>Entire home/apt</td>\n",
       "      <td>180</td>\n",
       "      <td>3</td>\n",
       "      <td>76</td>\n",
       "      <td>2018-10-07</td>\n",
       "      <td>0.78</td>\n",
       "      <td>1</td>\n",
       "      <td>11</td>\n",
       "    </tr>\n",
       "  </tbody>\n",
       "</table>\n",
       "</div>"
      ],
      "text/plain": [
       "      id                                               name  host_id  \\\n",
       "0   2818           Quiet Garden View Room & Super Fast WiFi     3159   \n",
       "1   3209                  Quiet apt near center, great view     3806   \n",
       "2  20168         100%Centre-Studio 1 Private Floor/Bathroom    59484   \n",
       "3  25428                Lovely apt in City Centre (Jordaan)    56142   \n",
       "4  27886  Romantic, stylish B&B houseboat in canal district    97647   \n",
       "5  28658                Cosy guest room near city centre -1   123414   \n",
       "6  28871                            Comfortable double room   124245   \n",
       "7  29051                            Comfortable single room   124245   \n",
       "8  31080                2-story apartment + rooftop terrace   133488   \n",
       "9  41125                  Amsterdam Center Entire Apartment   178515   \n",
       "\n",
       "  host_name                           neighbourhood   latitude  longitude  \\\n",
       "0    Daniel  Oostelijk Havengebied - Indische Buurt  52.365755   4.941419   \n",
       "1   Maartje                              Westerpark  52.390225   4.873924   \n",
       "2      Alex                            Centrum-Oost  52.365087   4.893541   \n",
       "3      Joan                            Centrum-West  52.373114   4.883668   \n",
       "4      Flip                            Centrum-West  52.386727   4.892078   \n",
       "5   Michele                           Bos en Lommer  52.375342   4.857289   \n",
       "6     Edwin                            Centrum-West  52.367187   4.890918   \n",
       "7     Edwin                            Centrum-West  52.367725   4.891512   \n",
       "8    Nienke                                    Zuid  52.351321   4.848383   \n",
       "9     Fatih                            Centrum-West  52.378915   4.883205   \n",
       "\n",
       "         room_type  price  minimum_nights  number_of_reviews last_review  \\\n",
       "0     Private room     59               3                248  2018-11-28   \n",
       "1  Entire home/apt    160               4                 42  2018-08-29   \n",
       "2  Entire home/apt     80               1                233  2018-11-30   \n",
       "3  Entire home/apt    125              14                  1  2018-01-21   \n",
       "4     Private room    150               2                171  2018-11-25   \n",
       "5     Private room     65               3                434  2018-11-19   \n",
       "6     Private room     75               2                215  2018-12-03   \n",
       "7     Private room     55               2                383  2018-12-05   \n",
       "8  Entire home/apt    219               3                 32  2017-10-16   \n",
       "9  Entire home/apt    180               3                 76  2018-10-07   \n",
       "\n",
       "   reviews_per_month  calculated_host_listings_count  availability_365  \n",
       "0               2.10                               1                44  \n",
       "1               1.03                               1                47  \n",
       "2               2.18                               2               198  \n",
       "3               0.09                               2               141  \n",
       "4               2.03                               1               199  \n",
       "5               4.16                               2               295  \n",
       "6               2.13                               3               137  \n",
       "7               4.07                               3               188  \n",
       "8               0.36                               1               336  \n",
       "9               0.78                               1                11  "
      ]
     },
     "execution_count": 12,
     "metadata": {},
     "output_type": "execute_result"
    }
   ],
   "source": [
    "# Checking drops\n",
    "df_listings_2.head(10)"
   ]
  },
  {
   "cell_type": "code",
   "execution_count": 13,
   "id": "def99ad8",
   "metadata": {},
   "outputs": [
    {
     "data": {
      "text/html": [
       "<div>\n",
       "<style scoped>\n",
       "    .dataframe tbody tr th:only-of-type {\n",
       "        vertical-align: middle;\n",
       "    }\n",
       "\n",
       "    .dataframe tbody tr th {\n",
       "        vertical-align: top;\n",
       "    }\n",
       "\n",
       "    .dataframe thead th {\n",
       "        text-align: right;\n",
       "    }\n",
       "</style>\n",
       "<table border=\"1\" class=\"dataframe\">\n",
       "  <thead>\n",
       "    <tr style=\"text-align: right;\">\n",
       "      <th></th>\n",
       "      <th>id</th>\n",
       "      <th>listing_url</th>\n",
       "      <th>scrape_id</th>\n",
       "      <th>last_scraped</th>\n",
       "      <th>name</th>\n",
       "      <th>summary</th>\n",
       "      <th>space</th>\n",
       "      <th>description</th>\n",
       "      <th>experiences_offered</th>\n",
       "      <th>neighborhood_overview</th>\n",
       "      <th>...</th>\n",
       "      <th>requires_license</th>\n",
       "      <th>license</th>\n",
       "      <th>jurisdiction_names</th>\n",
       "      <th>instant_bookable</th>\n",
       "      <th>is_business_travel_ready</th>\n",
       "      <th>cancellation_policy</th>\n",
       "      <th>require_guest_profile_picture</th>\n",
       "      <th>require_guest_phone_verification</th>\n",
       "      <th>calculated_host_listings_count</th>\n",
       "      <th>reviews_per_month</th>\n",
       "    </tr>\n",
       "  </thead>\n",
       "  <tbody>\n",
       "    <tr>\n",
       "      <th>0</th>\n",
       "      <td>2818</td>\n",
       "      <td>https://www.airbnb.com/rooms/2818</td>\n",
       "      <td>20181206172549</td>\n",
       "      <td>2018-12-06</td>\n",
       "      <td>Quiet Garden View Room &amp; Super Fast WiFi</td>\n",
       "      <td>Quiet Garden View Room &amp; Super Fast WiFi</td>\n",
       "      <td>I'm renting a bedroom (room overlooking the ga...</td>\n",
       "      <td>Quiet Garden View Room &amp; Super Fast WiFi I'm r...</td>\n",
       "      <td>none</td>\n",
       "      <td>Indische Buurt (\"Indies Neighborhood\") is a ne...</td>\n",
       "      <td>...</td>\n",
       "      <td>f</td>\n",
       "      <td>NaN</td>\n",
       "      <td>{Amsterdam}</td>\n",
       "      <td>t</td>\n",
       "      <td>f</td>\n",
       "      <td>strict_14_with_grace_period</td>\n",
       "      <td>f</td>\n",
       "      <td>f</td>\n",
       "      <td>1</td>\n",
       "      <td>2.10</td>\n",
       "    </tr>\n",
       "    <tr>\n",
       "      <th>1</th>\n",
       "      <td>3209</td>\n",
       "      <td>https://www.airbnb.com/rooms/3209</td>\n",
       "      <td>20181206172549</td>\n",
       "      <td>2018-12-06</td>\n",
       "      <td>Quiet apt near center, great view</td>\n",
       "      <td>You will love our spacious (90 m2) bright apar...</td>\n",
       "      <td>Our apartment has lots of light, a balcony and...</td>\n",
       "      <td>You will love our spacious (90 m2) bright apar...</td>\n",
       "      <td>none</td>\n",
       "      <td>Welcome to the Spaarndammerbuurt! From the beg...</td>\n",
       "      <td>...</td>\n",
       "      <td>f</td>\n",
       "      <td>NaN</td>\n",
       "      <td>{Amsterdam}</td>\n",
       "      <td>f</td>\n",
       "      <td>f</td>\n",
       "      <td>moderate</td>\n",
       "      <td>f</td>\n",
       "      <td>f</td>\n",
       "      <td>1</td>\n",
       "      <td>1.03</td>\n",
       "    </tr>\n",
       "    <tr>\n",
       "      <th>2</th>\n",
       "      <td>20168</td>\n",
       "      <td>https://www.airbnb.com/rooms/20168</td>\n",
       "      <td>20181206172549</td>\n",
       "      <td>2018-12-06</td>\n",
       "      <td>100%Centre-Studio 1 Private Floor/Bathroom</td>\n",
       "      <td>Cozy studio on your own private floor, 100% in...</td>\n",
       "      <td>For those who like all facets of city life. In...</td>\n",
       "      <td>Cozy studio on your own private floor, 100% in...</td>\n",
       "      <td>none</td>\n",
       "      <td>Located just in between famous central canals....</td>\n",
       "      <td>...</td>\n",
       "      <td>f</td>\n",
       "      <td>NaN</td>\n",
       "      <td>{Amsterdam}</td>\n",
       "      <td>f</td>\n",
       "      <td>f</td>\n",
       "      <td>strict_14_with_grace_period</td>\n",
       "      <td>f</td>\n",
       "      <td>f</td>\n",
       "      <td>2</td>\n",
       "      <td>2.18</td>\n",
       "    </tr>\n",
       "    <tr>\n",
       "      <th>3</th>\n",
       "      <td>25428</td>\n",
       "      <td>https://www.airbnb.com/rooms/25428</td>\n",
       "      <td>20181206172549</td>\n",
       "      <td>2018-12-06</td>\n",
       "      <td>Lovely apt in City Centre (Jordaan)</td>\n",
       "      <td>NaN</td>\n",
       "      <td>This nicely furnished, newly renovated apt  is...</td>\n",
       "      <td>This nicely furnished, newly renovated apt  is...</td>\n",
       "      <td>none</td>\n",
       "      <td>NaN</td>\n",
       "      <td>...</td>\n",
       "      <td>f</td>\n",
       "      <td>NaN</td>\n",
       "      <td>{Amsterdam}</td>\n",
       "      <td>f</td>\n",
       "      <td>f</td>\n",
       "      <td>strict_14_with_grace_period</td>\n",
       "      <td>f</td>\n",
       "      <td>f</td>\n",
       "      <td>2</td>\n",
       "      <td>0.09</td>\n",
       "    </tr>\n",
       "    <tr>\n",
       "      <th>4</th>\n",
       "      <td>27886</td>\n",
       "      <td>https://www.airbnb.com/rooms/27886</td>\n",
       "      <td>20181206172549</td>\n",
       "      <td>2018-12-06</td>\n",
       "      <td>Romantic, stylish B&amp;B houseboat in canal district</td>\n",
       "      <td>Stylish and romantic houseboat on fantastic hi...</td>\n",
       "      <td>For a romantic couple: A beautifully restored ...</td>\n",
       "      <td>Stylish and romantic houseboat on fantastic hi...</td>\n",
       "      <td>none</td>\n",
       "      <td>Central, quiet, safe, clean and beautiful.</td>\n",
       "      <td>...</td>\n",
       "      <td>f</td>\n",
       "      <td>NaN</td>\n",
       "      <td>{Amsterdam}</td>\n",
       "      <td>t</td>\n",
       "      <td>f</td>\n",
       "      <td>strict_14_with_grace_period</td>\n",
       "      <td>f</td>\n",
       "      <td>f</td>\n",
       "      <td>1</td>\n",
       "      <td>2.03</td>\n",
       "    </tr>\n",
       "  </tbody>\n",
       "</table>\n",
       "<p>5 rows × 91 columns</p>\n",
       "</div>"
      ],
      "text/plain": [
       "      id                         listing_url       scrape_id last_scraped  \\\n",
       "0   2818   https://www.airbnb.com/rooms/2818  20181206172549   2018-12-06   \n",
       "1   3209   https://www.airbnb.com/rooms/3209  20181206172549   2018-12-06   \n",
       "2  20168  https://www.airbnb.com/rooms/20168  20181206172549   2018-12-06   \n",
       "3  25428  https://www.airbnb.com/rooms/25428  20181206172549   2018-12-06   \n",
       "4  27886  https://www.airbnb.com/rooms/27886  20181206172549   2018-12-06   \n",
       "\n",
       "                                                name  \\\n",
       "0           Quiet Garden View Room & Super Fast WiFi   \n",
       "1                  Quiet apt near center, great view   \n",
       "2         100%Centre-Studio 1 Private Floor/Bathroom   \n",
       "3                Lovely apt in City Centre (Jordaan)   \n",
       "4  Romantic, stylish B&B houseboat in canal district   \n",
       "\n",
       "                                             summary  \\\n",
       "0           Quiet Garden View Room & Super Fast WiFi   \n",
       "1  You will love our spacious (90 m2) bright apar...   \n",
       "2  Cozy studio on your own private floor, 100% in...   \n",
       "3                                                NaN   \n",
       "4  Stylish and romantic houseboat on fantastic hi...   \n",
       "\n",
       "                                               space  \\\n",
       "0  I'm renting a bedroom (room overlooking the ga...   \n",
       "1  Our apartment has lots of light, a balcony and...   \n",
       "2  For those who like all facets of city life. In...   \n",
       "3  This nicely furnished, newly renovated apt  is...   \n",
       "4  For a romantic couple: A beautifully restored ...   \n",
       "\n",
       "                                         description experiences_offered  \\\n",
       "0  Quiet Garden View Room & Super Fast WiFi I'm r...                none   \n",
       "1  You will love our spacious (90 m2) bright apar...                none   \n",
       "2  Cozy studio on your own private floor, 100% in...                none   \n",
       "3  This nicely furnished, newly renovated apt  is...                none   \n",
       "4  Stylish and romantic houseboat on fantastic hi...                none   \n",
       "\n",
       "                               neighborhood_overview  ... requires_license  \\\n",
       "0  Indische Buurt (\"Indies Neighborhood\") is a ne...  ...                f   \n",
       "1  Welcome to the Spaarndammerbuurt! From the beg...  ...                f   \n",
       "2  Located just in between famous central canals....  ...                f   \n",
       "3                                                NaN  ...                f   \n",
       "4         Central, quiet, safe, clean and beautiful.  ...                f   \n",
       "\n",
       "  license jurisdiction_names instant_bookable is_business_travel_ready  \\\n",
       "0     NaN        {Amsterdam}                t                        f   \n",
       "1     NaN        {Amsterdam}                f                        f   \n",
       "2     NaN        {Amsterdam}                f                        f   \n",
       "3     NaN        {Amsterdam}                f                        f   \n",
       "4     NaN        {Amsterdam}                t                        f   \n",
       "\n",
       "           cancellation_policy  require_guest_profile_picture  \\\n",
       "0  strict_14_with_grace_period                              f   \n",
       "1                     moderate                              f   \n",
       "2  strict_14_with_grace_period                              f   \n",
       "3  strict_14_with_grace_period                              f   \n",
       "4  strict_14_with_grace_period                              f   \n",
       "\n",
       "  require_guest_phone_verification calculated_host_listings_count  \\\n",
       "0                                f                              1   \n",
       "1                                f                              1   \n",
       "2                                f                              2   \n",
       "3                                f                              2   \n",
       "4                                f                              1   \n",
       "\n",
       "  reviews_per_month  \n",
       "0              2.10  \n",
       "1              1.03  \n",
       "2              2.18  \n",
       "3              0.09  \n",
       "4              2.03  \n",
       "\n",
       "[5 rows x 91 columns]"
      ]
     },
     "execution_count": 13,
     "metadata": {},
     "output_type": "execute_result"
    }
   ],
   "source": [
    "df_listings_dets_2.head(5)"
   ]
  },
  {
   "cell_type": "code",
   "execution_count": 14,
   "id": "1edfeca5",
   "metadata": {},
   "outputs": [
    {
     "name": "stdout",
     "output_type": "stream",
     "text": [
      "<class 'pandas.core.frame.DataFrame'>\n",
      "RangeIndex: 20030 entries, 0 to 20029\n",
      "Data columns (total 91 columns):\n",
      " #   Column                            Non-Null Count  Dtype  \n",
      "---  ------                            --------------  -----  \n",
      " 0   id                                20030 non-null  int64  \n",
      " 1   listing_url                       20030 non-null  object \n",
      " 2   scrape_id                         20030 non-null  int64  \n",
      " 3   last_scraped                      20030 non-null  object \n",
      " 4   name                              19992 non-null  object \n",
      " 5   summary                           19510 non-null  object \n",
      " 6   space                             14579 non-null  object \n",
      " 7   description                       19906 non-null  object \n",
      " 8   experiences_offered               20030 non-null  object \n",
      " 9   neighborhood_overview             13257 non-null  object \n",
      " 10  notes                             9031 non-null   object \n",
      " 11  transit                           13635 non-null  object \n",
      " 12  access                            12227 non-null  object \n",
      " 13  interaction                       11974 non-null  object \n",
      " 14  house_rules                       12571 non-null  object \n",
      " 15  picture_url                       20030 non-null  object \n",
      " 16  host_id                           20030 non-null  int64  \n",
      " 17  host_url                          20030 non-null  object \n",
      " 18  host_name                         20026 non-null  object \n",
      " 19  host_since                        20026 non-null  object \n",
      " 20  host_location                     19991 non-null  object \n",
      " 21  host_about                        11803 non-null  object \n",
      " 22  host_response_time                10547 non-null  object \n",
      " 23  host_response_rate                10547 non-null  object \n",
      " 24  host_is_superhost                 20026 non-null  object \n",
      " 25  host_thumbnail_url                20026 non-null  object \n",
      " 26  host_picture_url                  20026 non-null  object \n",
      " 27  host_neighbourhood                14222 non-null  object \n",
      " 28  host_listings_count               20026 non-null  float64\n",
      " 29  host_total_listings_count         20026 non-null  float64\n",
      " 30  host_verifications                20030 non-null  object \n",
      " 31  host_has_profile_pic              20026 non-null  object \n",
      " 32  host_identity_verified            20026 non-null  object \n",
      " 33  street                            20030 non-null  object \n",
      " 34  neighbourhood                     18377 non-null  object \n",
      " 35  neighbourhood_cleansed            20030 non-null  object \n",
      " 36  city                              20026 non-null  object \n",
      " 37  state                             19903 non-null  object \n",
      " 38  zipcode                           19164 non-null  object \n",
      " 39  market                            19988 non-null  object \n",
      " 40  smart_location                    20030 non-null  object \n",
      " 41  country_code                      20030 non-null  object \n",
      " 42  country                           20030 non-null  object \n",
      " 43  latitude                          20030 non-null  float64\n",
      " 44  longitude                         20030 non-null  float64\n",
      " 45  is_location_exact                 20030 non-null  object \n",
      " 46  property_type                     20030 non-null  object \n",
      " 47  room_type                         20030 non-null  object \n",
      " 48  accommodates                      20030 non-null  int64  \n",
      " 49  bathrooms                         20020 non-null  float64\n",
      " 50  bedrooms                          20022 non-null  float64\n",
      " 51  beds                              20023 non-null  float64\n",
      " 52  bed_type                          20030 non-null  object \n",
      " 53  amenities                         20030 non-null  object \n",
      " 54  square_feet                       406 non-null    float64\n",
      " 55  price                             20030 non-null  object \n",
      " 56  weekly_price                      2843 non-null   object \n",
      " 57  monthly_price                     1561 non-null   object \n",
      " 58  security_deposit                  13864 non-null  object \n",
      " 59  cleaning_fee                      16401 non-null  object \n",
      " 60  guests_included                   20030 non-null  int64  \n",
      " 61  extra_people                      20030 non-null  object \n",
      " 62  minimum_nights                    20030 non-null  int64  \n",
      " 63  maximum_nights                    20030 non-null  int64  \n",
      " 64  calendar_updated                  20030 non-null  object \n",
      " 65  has_availability                  20030 non-null  object \n",
      " 66  availability_30                   20030 non-null  int64  \n",
      " 67  availability_60                   20030 non-null  int64  \n",
      " 68  availability_90                   20030 non-null  int64  \n",
      " 69  availability_365                  20030 non-null  int64  \n",
      " 70  calendar_last_scraped             20030 non-null  object \n",
      " 71  number_of_reviews                 20030 non-null  int64  \n",
      " 72  first_review                      17624 non-null  object \n",
      " 73  last_review                       17624 non-null  object \n",
      " 74  review_scores_rating              17391 non-null  float64\n",
      " 75  review_scores_accuracy            17381 non-null  float64\n",
      " 76  review_scores_cleanliness         17383 non-null  float64\n",
      " 77  review_scores_checkin             17369 non-null  float64\n",
      " 78  review_scores_communication       17378 non-null  float64\n",
      " 79  review_scores_location            17370 non-null  float64\n",
      " 80  review_scores_value               17371 non-null  float64\n",
      " 81  requires_license                  20030 non-null  object \n",
      " 82  license                           9 non-null      object \n",
      " 83  jurisdiction_names                19358 non-null  object \n",
      " 84  instant_bookable                  20030 non-null  object \n",
      " 85  is_business_travel_ready          20030 non-null  object \n",
      " 86  cancellation_policy               20030 non-null  object \n",
      " 87  require_guest_profile_picture     20030 non-null  object \n",
      " 88  require_guest_phone_verification  20030 non-null  object \n",
      " 89  calculated_host_listings_count    20030 non-null  int64  \n",
      " 90  reviews_per_month                 17624 non-null  float64\n",
      "dtypes: float64(16), int64(13), object(62)\n",
      "memory usage: 13.9+ MB\n"
     ]
    }
   ],
   "source": [
    "df_listings_dets_2.info()"
   ]
  },
  {
   "cell_type": "code",
   "execution_count": 15,
   "id": "8e726cda",
   "metadata": {},
   "outputs": [
    {
     "data": {
      "text/html": [
       "<div>\n",
       "<style scoped>\n",
       "    .dataframe tbody tr th:only-of-type {\n",
       "        vertical-align: middle;\n",
       "    }\n",
       "\n",
       "    .dataframe tbody tr th {\n",
       "        vertical-align: top;\n",
       "    }\n",
       "\n",
       "    .dataframe thead th {\n",
       "        text-align: right;\n",
       "    }\n",
       "</style>\n",
       "<table border=\"1\" class=\"dataframe\">\n",
       "  <thead>\n",
       "    <tr style=\"text-align: right;\">\n",
       "      <th></th>\n",
       "      <th>neighbourhood</th>\n",
       "    </tr>\n",
       "  </thead>\n",
       "  <tbody>\n",
       "    <tr>\n",
       "      <th>0</th>\n",
       "      <td>Bijlmer-Centrum</td>\n",
       "    </tr>\n",
       "    <tr>\n",
       "      <th>1</th>\n",
       "      <td>Bijlmer-Oost</td>\n",
       "    </tr>\n",
       "    <tr>\n",
       "      <th>2</th>\n",
       "      <td>Bos en Lommer</td>\n",
       "    </tr>\n",
       "    <tr>\n",
       "      <th>3</th>\n",
       "      <td>Buitenveldert - Zuidas</td>\n",
       "    </tr>\n",
       "    <tr>\n",
       "      <th>4</th>\n",
       "      <td>Centrum-Oost</td>\n",
       "    </tr>\n",
       "  </tbody>\n",
       "</table>\n",
       "</div>"
      ],
      "text/plain": [
       "            neighbourhood\n",
       "0         Bijlmer-Centrum\n",
       "1            Bijlmer-Oost\n",
       "2           Bos en Lommer\n",
       "3  Buitenveldert - Zuidas\n",
       "4            Centrum-Oost"
      ]
     },
     "execution_count": 15,
     "metadata": {},
     "output_type": "execute_result"
    }
   ],
   "source": [
    "df_neighbourhoods_2.head()"
   ]
  },
  {
   "cell_type": "markdown",
   "id": "2352d253",
   "metadata": {},
   "source": [
    "# Changing Data Types"
   ]
  },
  {
   "cell_type": "code",
   "execution_count": 16,
   "id": "59b02a91",
   "metadata": {},
   "outputs": [],
   "source": [
    "# Changing data types in Calendar database\n",
    "df_calendar['listing_id'] = df_calendar['listing_id'].astype('object')"
   ]
  },
  {
   "cell_type": "code",
   "execution_count": 17,
   "id": "cc0ff5c0",
   "metadata": {},
   "outputs": [
    {
     "name": "stdout",
     "output_type": "stream",
     "text": [
      "<class 'pandas.core.frame.DataFrame'>\n",
      "RangeIndex: 7310950 entries, 0 to 7310949\n",
      "Data columns (total 4 columns):\n",
      " #   Column      Dtype \n",
      "---  ------      ----- \n",
      " 0   listing_id  object\n",
      " 1   date        object\n",
      " 2   available   object\n",
      " 3   price       object\n",
      "dtypes: object(4)\n",
      "memory usage: 223.1+ MB\n"
     ]
    }
   ],
   "source": [
    "df_calendar.info()"
   ]
  },
  {
   "cell_type": "code",
   "execution_count": 18,
   "id": "989b1291",
   "metadata": {},
   "outputs": [],
   "source": [
    "# Changing data types in Listings database\n",
    "df_listings_2['id'] = df_listings_2['id'].astype('object')"
   ]
  },
  {
   "cell_type": "code",
   "execution_count": 19,
   "id": "d819cd56",
   "metadata": {},
   "outputs": [],
   "source": [
    "df_listings_2['host_id'] = df_listings_2['host_id'].astype('object')"
   ]
  },
  {
   "cell_type": "code",
   "execution_count": 20,
   "id": "286f9bd2",
   "metadata": {},
   "outputs": [
    {
     "name": "stdout",
     "output_type": "stream",
     "text": [
      "<class 'pandas.core.frame.DataFrame'>\n",
      "RangeIndex: 20030 entries, 0 to 20029\n",
      "Data columns (total 15 columns):\n",
      " #   Column                          Non-Null Count  Dtype  \n",
      "---  ------                          --------------  -----  \n",
      " 0   id                              20030 non-null  object \n",
      " 1   name                            19992 non-null  object \n",
      " 2   host_id                         20030 non-null  object \n",
      " 3   host_name                       20026 non-null  object \n",
      " 4   neighbourhood                   20030 non-null  object \n",
      " 5   latitude                        20030 non-null  float64\n",
      " 6   longitude                       20030 non-null  float64\n",
      " 7   room_type                       20030 non-null  object \n",
      " 8   price                           20030 non-null  int64  \n",
      " 9   minimum_nights                  20030 non-null  int64  \n",
      " 10  number_of_reviews               20030 non-null  int64  \n",
      " 11  last_review                     17624 non-null  object \n",
      " 12  reviews_per_month               17624 non-null  float64\n",
      " 13  calculated_host_listings_count  20030 non-null  int64  \n",
      " 14  availability_365                20030 non-null  int64  \n",
      "dtypes: float64(3), int64(5), object(7)\n",
      "memory usage: 2.3+ MB\n"
     ]
    }
   ],
   "source": [
    "df_listings_2.info()"
   ]
  },
  {
   "cell_type": "code",
   "execution_count": 21,
   "id": "6b1d99d3",
   "metadata": {},
   "outputs": [],
   "source": [
    "# Changing data types in Listings Details database\n",
    "df_listings_dets_2['id'] = df_listings_dets_2['id'].astype('object')"
   ]
  },
  {
   "cell_type": "code",
   "execution_count": 22,
   "id": "07755e99",
   "metadata": {},
   "outputs": [],
   "source": [
    "df_listings_dets_2['scrape_id'] = df_listings_dets_2['scrape_id'].astype('object')"
   ]
  },
  {
   "cell_type": "code",
   "execution_count": 23,
   "id": "d0f76dc8",
   "metadata": {},
   "outputs": [
    {
     "name": "stdout",
     "output_type": "stream",
     "text": [
      "<class 'pandas.core.frame.DataFrame'>\n",
      "RangeIndex: 20030 entries, 0 to 20029\n",
      "Data columns (total 91 columns):\n",
      " #   Column                            Non-Null Count  Dtype  \n",
      "---  ------                            --------------  -----  \n",
      " 0   id                                20030 non-null  object \n",
      " 1   listing_url                       20030 non-null  object \n",
      " 2   scrape_id                         20030 non-null  object \n",
      " 3   last_scraped                      20030 non-null  object \n",
      " 4   name                              19992 non-null  object \n",
      " 5   summary                           19510 non-null  object \n",
      " 6   space                             14579 non-null  object \n",
      " 7   description                       19906 non-null  object \n",
      " 8   experiences_offered               20030 non-null  object \n",
      " 9   neighborhood_overview             13257 non-null  object \n",
      " 10  notes                             9031 non-null   object \n",
      " 11  transit                           13635 non-null  object \n",
      " 12  access                            12227 non-null  object \n",
      " 13  interaction                       11974 non-null  object \n",
      " 14  house_rules                       12571 non-null  object \n",
      " 15  picture_url                       20030 non-null  object \n",
      " 16  host_id                           20030 non-null  int64  \n",
      " 17  host_url                          20030 non-null  object \n",
      " 18  host_name                         20026 non-null  object \n",
      " 19  host_since                        20026 non-null  object \n",
      " 20  host_location                     19991 non-null  object \n",
      " 21  host_about                        11803 non-null  object \n",
      " 22  host_response_time                10547 non-null  object \n",
      " 23  host_response_rate                10547 non-null  object \n",
      " 24  host_is_superhost                 20026 non-null  object \n",
      " 25  host_thumbnail_url                20026 non-null  object \n",
      " 26  host_picture_url                  20026 non-null  object \n",
      " 27  host_neighbourhood                14222 non-null  object \n",
      " 28  host_listings_count               20026 non-null  float64\n",
      " 29  host_total_listings_count         20026 non-null  float64\n",
      " 30  host_verifications                20030 non-null  object \n",
      " 31  host_has_profile_pic              20026 non-null  object \n",
      " 32  host_identity_verified            20026 non-null  object \n",
      " 33  street                            20030 non-null  object \n",
      " 34  neighbourhood                     18377 non-null  object \n",
      " 35  neighbourhood_cleansed            20030 non-null  object \n",
      " 36  city                              20026 non-null  object \n",
      " 37  state                             19903 non-null  object \n",
      " 38  zipcode                           19164 non-null  object \n",
      " 39  market                            19988 non-null  object \n",
      " 40  smart_location                    20030 non-null  object \n",
      " 41  country_code                      20030 non-null  object \n",
      " 42  country                           20030 non-null  object \n",
      " 43  latitude                          20030 non-null  float64\n",
      " 44  longitude                         20030 non-null  float64\n",
      " 45  is_location_exact                 20030 non-null  object \n",
      " 46  property_type                     20030 non-null  object \n",
      " 47  room_type                         20030 non-null  object \n",
      " 48  accommodates                      20030 non-null  int64  \n",
      " 49  bathrooms                         20020 non-null  float64\n",
      " 50  bedrooms                          20022 non-null  float64\n",
      " 51  beds                              20023 non-null  float64\n",
      " 52  bed_type                          20030 non-null  object \n",
      " 53  amenities                         20030 non-null  object \n",
      " 54  square_feet                       406 non-null    float64\n",
      " 55  price                             20030 non-null  object \n",
      " 56  weekly_price                      2843 non-null   object \n",
      " 57  monthly_price                     1561 non-null   object \n",
      " 58  security_deposit                  13864 non-null  object \n",
      " 59  cleaning_fee                      16401 non-null  object \n",
      " 60  guests_included                   20030 non-null  int64  \n",
      " 61  extra_people                      20030 non-null  object \n",
      " 62  minimum_nights                    20030 non-null  int64  \n",
      " 63  maximum_nights                    20030 non-null  int64  \n",
      " 64  calendar_updated                  20030 non-null  object \n",
      " 65  has_availability                  20030 non-null  object \n",
      " 66  availability_30                   20030 non-null  int64  \n",
      " 67  availability_60                   20030 non-null  int64  \n",
      " 68  availability_90                   20030 non-null  int64  \n",
      " 69  availability_365                  20030 non-null  int64  \n",
      " 70  calendar_last_scraped             20030 non-null  object \n",
      " 71  number_of_reviews                 20030 non-null  int64  \n",
      " 72  first_review                      17624 non-null  object \n",
      " 73  last_review                       17624 non-null  object \n",
      " 74  review_scores_rating              17391 non-null  float64\n",
      " 75  review_scores_accuracy            17381 non-null  float64\n",
      " 76  review_scores_cleanliness         17383 non-null  float64\n",
      " 77  review_scores_checkin             17369 non-null  float64\n",
      " 78  review_scores_communication       17378 non-null  float64\n",
      " 79  review_scores_location            17370 non-null  float64\n",
      " 80  review_scores_value               17371 non-null  float64\n",
      " 81  requires_license                  20030 non-null  object \n",
      " 82  license                           9 non-null      object \n",
      " 83  jurisdiction_names                19358 non-null  object \n",
      " 84  instant_bookable                  20030 non-null  object \n",
      " 85  is_business_travel_ready          20030 non-null  object \n",
      " 86  cancellation_policy               20030 non-null  object \n",
      " 87  require_guest_profile_picture     20030 non-null  object \n",
      " 88  require_guest_phone_verification  20030 non-null  object \n",
      " 89  calculated_host_listings_count    20030 non-null  int64  \n",
      " 90  reviews_per_month                 17624 non-null  float64\n",
      "dtypes: float64(16), int64(11), object(64)\n",
      "memory usage: 13.9+ MB\n"
     ]
    }
   ],
   "source": [
    "df_listings_dets_2.info()"
   ]
  },
  {
   "cell_type": "code",
   "execution_count": 24,
   "id": "e59ccd86",
   "metadata": {},
   "outputs": [],
   "source": [
    "# Changing data types in Reviews database\n",
    "df_reviews['listing_id'] = df_reviews['listing_id'].astype('object')"
   ]
  },
  {
   "cell_type": "code",
   "execution_count": 25,
   "id": "7f944cad",
   "metadata": {},
   "outputs": [
    {
     "name": "stdout",
     "output_type": "stream",
     "text": [
      "<class 'pandas.core.frame.DataFrame'>\n",
      "RangeIndex: 431830 entries, 0 to 431829\n",
      "Data columns (total 2 columns):\n",
      " #   Column      Non-Null Count   Dtype \n",
      "---  ------      --------------   ----- \n",
      " 0   listing_id  431830 non-null  object\n",
      " 1   date        431830 non-null  object\n",
      "dtypes: object(2)\n",
      "memory usage: 6.6+ MB\n"
     ]
    }
   ],
   "source": [
    "df_reviews.info()"
   ]
  },
  {
   "cell_type": "code",
   "execution_count": 26,
   "id": "4333bccf",
   "metadata": {},
   "outputs": [],
   "source": [
    "# Changing data types in Reviews Details database\n",
    "df_reviews_dets['listing_id'] = df_reviews_dets['listing_id'].astype('object')"
   ]
  },
  {
   "cell_type": "code",
   "execution_count": 27,
   "id": "8d5d19fe",
   "metadata": {},
   "outputs": [],
   "source": [
    "df_reviews_dets['id'] = df_reviews_dets['id'].astype('object')"
   ]
  },
  {
   "cell_type": "code",
   "execution_count": 28,
   "id": "24587954",
   "metadata": {},
   "outputs": [],
   "source": [
    "df_reviews_dets['reviewer_id'] = df_reviews_dets['reviewer_id'].astype('object')"
   ]
  },
  {
   "cell_type": "code",
   "execution_count": 29,
   "id": "a3617f6d",
   "metadata": {},
   "outputs": [
    {
     "name": "stdout",
     "output_type": "stream",
     "text": [
      "<class 'pandas.core.frame.DataFrame'>\n",
      "RangeIndex: 431830 entries, 0 to 431829\n",
      "Data columns (total 6 columns):\n",
      " #   Column         Non-Null Count   Dtype \n",
      "---  ------         --------------   ----- \n",
      " 0   listing_id     431830 non-null  object\n",
      " 1   id             431830 non-null  object\n",
      " 2   date           431830 non-null  object\n",
      " 3   reviewer_id    431830 non-null  object\n",
      " 4   reviewer_name  431830 non-null  object\n",
      " 5   comments       431300 non-null  object\n",
      "dtypes: object(6)\n",
      "memory usage: 19.8+ MB\n"
     ]
    }
   ],
   "source": [
    "df_reviews_dets.info()"
   ]
  },
  {
   "cell_type": "markdown",
   "id": "7eaeef31",
   "metadata": {},
   "source": [
    "# Identifying Missing Values"
   ]
  },
  {
   "cell_type": "code",
   "execution_count": 30,
   "id": "66062d69",
   "metadata": {},
   "outputs": [
    {
     "data": {
      "text/plain": [
       "listing_id          0\n",
       "date                0\n",
       "available           0\n",
       "price         6110879\n",
       "dtype: int64"
      ]
     },
     "execution_count": 30,
     "metadata": {},
     "output_type": "execute_result"
    }
   ],
   "source": [
    "# Identifying missing values in Calenders database\n",
    "df_calendar.isnull().sum()"
   ]
  },
  {
   "cell_type": "code",
   "execution_count": 31,
   "id": "288dc543",
   "metadata": {},
   "outputs": [
    {
     "data": {
      "text/plain": [
       "id                                   0\n",
       "name                                38\n",
       "host_id                              0\n",
       "host_name                            4\n",
       "neighbourhood                        0\n",
       "latitude                             0\n",
       "longitude                            0\n",
       "room_type                            0\n",
       "price                                0\n",
       "minimum_nights                       0\n",
       "number_of_reviews                    0\n",
       "last_review                       2406\n",
       "reviews_per_month                 2406\n",
       "calculated_host_listings_count       0\n",
       "availability_365                     0\n",
       "dtype: int64"
      ]
     },
     "execution_count": 31,
     "metadata": {},
     "output_type": "execute_result"
    }
   ],
   "source": [
    "# Identifying missing values in Listings_2 database\n",
    "df_listings_2.isnull().sum()"
   ]
  },
  {
   "cell_type": "code",
   "execution_count": 32,
   "id": "3576ac92",
   "metadata": {},
   "outputs": [
    {
     "data": {
      "text/plain": [
       "id                                     0\n",
       "listing_url                            0\n",
       "scrape_id                              0\n",
       "last_scraped                           0\n",
       "name                                  38\n",
       "                                    ... \n",
       "cancellation_policy                    0\n",
       "require_guest_profile_picture          0\n",
       "require_guest_phone_verification       0\n",
       "calculated_host_listings_count         0\n",
       "reviews_per_month                   2406\n",
       "Length: 91, dtype: int64"
      ]
     },
     "execution_count": 32,
     "metadata": {},
     "output_type": "execute_result"
    }
   ],
   "source": [
    "# Identifying missing values in Listings_dets_2 database\n",
    "df_listings_dets_2.isnull().sum()"
   ]
  },
  {
   "cell_type": "code",
   "execution_count": 33,
   "id": "4bf2358f",
   "metadata": {},
   "outputs": [
    {
     "data": {
      "text/plain": [
       "listing_id    0\n",
       "date          0\n",
       "dtype: int64"
      ]
     },
     "execution_count": 33,
     "metadata": {},
     "output_type": "execute_result"
    }
   ],
   "source": [
    "# Identifying missing values in Reviews database\n",
    "df_reviews.isnull().sum()"
   ]
  },
  {
   "cell_type": "code",
   "execution_count": 34,
   "id": "d4fe3180",
   "metadata": {},
   "outputs": [
    {
     "data": {
      "text/plain": [
       "listing_id         0\n",
       "id                 0\n",
       "date               0\n",
       "reviewer_id        0\n",
       "reviewer_name      0\n",
       "comments         530\n",
       "dtype: int64"
      ]
     },
     "execution_count": 34,
     "metadata": {},
     "output_type": "execute_result"
    }
   ],
   "source": [
    "# Identifying missing values in Reviews_dets database\n",
    "df_reviews_dets.isnull().sum()"
   ]
  },
  {
   "cell_type": "markdown",
   "id": "7a102863",
   "metadata": {},
   "source": [
    "# Finding and Addressing Duplicates"
   ]
  },
  {
   "cell_type": "code",
   "execution_count": 35,
   "id": "1b329704",
   "metadata": {},
   "outputs": [],
   "source": [
    "# Finding duplicates in calendars dataframe\n",
    "df_cal_dups = df_calendar[df_calendar.duplicated()]"
   ]
  },
  {
   "cell_type": "code",
   "execution_count": 36,
   "id": "49afbdba",
   "metadata": {},
   "outputs": [
    {
     "data": {
      "text/html": [
       "<div>\n",
       "<style scoped>\n",
       "    .dataframe tbody tr th:only-of-type {\n",
       "        vertical-align: middle;\n",
       "    }\n",
       "\n",
       "    .dataframe tbody tr th {\n",
       "        vertical-align: top;\n",
       "    }\n",
       "\n",
       "    .dataframe thead th {\n",
       "        text-align: right;\n",
       "    }\n",
       "</style>\n",
       "<table border=\"1\" class=\"dataframe\">\n",
       "  <thead>\n",
       "    <tr style=\"text-align: right;\">\n",
       "      <th></th>\n",
       "      <th>listing_id</th>\n",
       "      <th>date</th>\n",
       "      <th>available</th>\n",
       "      <th>price</th>\n",
       "    </tr>\n",
       "  </thead>\n",
       "  <tbody>\n",
       "  </tbody>\n",
       "</table>\n",
       "</div>"
      ],
      "text/plain": [
       "Empty DataFrame\n",
       "Columns: [listing_id, date, available, price]\n",
       "Index: []"
      ]
     },
     "execution_count": 36,
     "metadata": {},
     "output_type": "execute_result"
    }
   ],
   "source": [
    "df_cal_dups"
   ]
  },
  {
   "cell_type": "code",
   "execution_count": 37,
   "id": "bc03b065",
   "metadata": {},
   "outputs": [],
   "source": [
    "# Finding duplicates in listings_2 dataframe\n",
    "df_list_dups = df_listings_2[df_listings_2.duplicated()]"
   ]
  },
  {
   "cell_type": "code",
   "execution_count": 38,
   "id": "e2dcd2b6",
   "metadata": {},
   "outputs": [
    {
     "data": {
      "text/html": [
       "<div>\n",
       "<style scoped>\n",
       "    .dataframe tbody tr th:only-of-type {\n",
       "        vertical-align: middle;\n",
       "    }\n",
       "\n",
       "    .dataframe tbody tr th {\n",
       "        vertical-align: top;\n",
       "    }\n",
       "\n",
       "    .dataframe thead th {\n",
       "        text-align: right;\n",
       "    }\n",
       "</style>\n",
       "<table border=\"1\" class=\"dataframe\">\n",
       "  <thead>\n",
       "    <tr style=\"text-align: right;\">\n",
       "      <th></th>\n",
       "      <th>id</th>\n",
       "      <th>name</th>\n",
       "      <th>host_id</th>\n",
       "      <th>host_name</th>\n",
       "      <th>neighbourhood</th>\n",
       "      <th>latitude</th>\n",
       "      <th>longitude</th>\n",
       "      <th>room_type</th>\n",
       "      <th>price</th>\n",
       "      <th>minimum_nights</th>\n",
       "      <th>number_of_reviews</th>\n",
       "      <th>last_review</th>\n",
       "      <th>reviews_per_month</th>\n",
       "      <th>calculated_host_listings_count</th>\n",
       "      <th>availability_365</th>\n",
       "    </tr>\n",
       "  </thead>\n",
       "  <tbody>\n",
       "  </tbody>\n",
       "</table>\n",
       "</div>"
      ],
      "text/plain": [
       "Empty DataFrame\n",
       "Columns: [id, name, host_id, host_name, neighbourhood, latitude, longitude, room_type, price, minimum_nights, number_of_reviews, last_review, reviews_per_month, calculated_host_listings_count, availability_365]\n",
       "Index: []"
      ]
     },
     "execution_count": 38,
     "metadata": {},
     "output_type": "execute_result"
    }
   ],
   "source": [
    "df_list_dups"
   ]
  },
  {
   "cell_type": "code",
   "execution_count": 39,
   "id": "efc4b323",
   "metadata": {},
   "outputs": [],
   "source": [
    "# Finding duplicates in listings__dets_2 dataframe\n",
    "df_list_dets_dups = df_listings_dets_2[df_listings_dets_2.duplicated()]"
   ]
  },
  {
   "cell_type": "code",
   "execution_count": 40,
   "id": "c8e8a264",
   "metadata": {},
   "outputs": [
    {
     "data": {
      "text/html": [
       "<div>\n",
       "<style scoped>\n",
       "    .dataframe tbody tr th:only-of-type {\n",
       "        vertical-align: middle;\n",
       "    }\n",
       "\n",
       "    .dataframe tbody tr th {\n",
       "        vertical-align: top;\n",
       "    }\n",
       "\n",
       "    .dataframe thead th {\n",
       "        text-align: right;\n",
       "    }\n",
       "</style>\n",
       "<table border=\"1\" class=\"dataframe\">\n",
       "  <thead>\n",
       "    <tr style=\"text-align: right;\">\n",
       "      <th></th>\n",
       "      <th>id</th>\n",
       "      <th>listing_url</th>\n",
       "      <th>scrape_id</th>\n",
       "      <th>last_scraped</th>\n",
       "      <th>name</th>\n",
       "      <th>summary</th>\n",
       "      <th>space</th>\n",
       "      <th>description</th>\n",
       "      <th>experiences_offered</th>\n",
       "      <th>neighborhood_overview</th>\n",
       "      <th>...</th>\n",
       "      <th>requires_license</th>\n",
       "      <th>license</th>\n",
       "      <th>jurisdiction_names</th>\n",
       "      <th>instant_bookable</th>\n",
       "      <th>is_business_travel_ready</th>\n",
       "      <th>cancellation_policy</th>\n",
       "      <th>require_guest_profile_picture</th>\n",
       "      <th>require_guest_phone_verification</th>\n",
       "      <th>calculated_host_listings_count</th>\n",
       "      <th>reviews_per_month</th>\n",
       "    </tr>\n",
       "  </thead>\n",
       "  <tbody>\n",
       "  </tbody>\n",
       "</table>\n",
       "<p>0 rows × 91 columns</p>\n",
       "</div>"
      ],
      "text/plain": [
       "Empty DataFrame\n",
       "Columns: [id, listing_url, scrape_id, last_scraped, name, summary, space, description, experiences_offered, neighborhood_overview, notes, transit, access, interaction, house_rules, picture_url, host_id, host_url, host_name, host_since, host_location, host_about, host_response_time, host_response_rate, host_is_superhost, host_thumbnail_url, host_picture_url, host_neighbourhood, host_listings_count, host_total_listings_count, host_verifications, host_has_profile_pic, host_identity_verified, street, neighbourhood, neighbourhood_cleansed, city, state, zipcode, market, smart_location, country_code, country, latitude, longitude, is_location_exact, property_type, room_type, accommodates, bathrooms, bedrooms, beds, bed_type, amenities, square_feet, price, weekly_price, monthly_price, security_deposit, cleaning_fee, guests_included, extra_people, minimum_nights, maximum_nights, calendar_updated, has_availability, availability_30, availability_60, availability_90, availability_365, calendar_last_scraped, number_of_reviews, first_review, last_review, review_scores_rating, review_scores_accuracy, review_scores_cleanliness, review_scores_checkin, review_scores_communication, review_scores_location, review_scores_value, requires_license, license, jurisdiction_names, instant_bookable, is_business_travel_ready, cancellation_policy, require_guest_profile_picture, require_guest_phone_verification, calculated_host_listings_count, reviews_per_month]\n",
       "Index: []\n",
       "\n",
       "[0 rows x 91 columns]"
      ]
     },
     "execution_count": 40,
     "metadata": {},
     "output_type": "execute_result"
    }
   ],
   "source": [
    "df_list_dets_dups"
   ]
  },
  {
   "cell_type": "code",
   "execution_count": 41,
   "id": "a3575a7c",
   "metadata": {},
   "outputs": [],
   "source": [
    "# Finding duplicates in reviews dataframe\n",
    "df_reviews_dups = df_reviews[df_reviews.duplicated()]"
   ]
  },
  {
   "cell_type": "code",
   "execution_count": 42,
   "id": "59eb48f6",
   "metadata": {},
   "outputs": [
    {
     "data": {
      "text/html": [
       "<div>\n",
       "<style scoped>\n",
       "    .dataframe tbody tr th:only-of-type {\n",
       "        vertical-align: middle;\n",
       "    }\n",
       "\n",
       "    .dataframe tbody tr th {\n",
       "        vertical-align: top;\n",
       "    }\n",
       "\n",
       "    .dataframe thead th {\n",
       "        text-align: right;\n",
       "    }\n",
       "</style>\n",
       "<table border=\"1\" class=\"dataframe\">\n",
       "  <thead>\n",
       "    <tr style=\"text-align: right;\">\n",
       "      <th></th>\n",
       "      <th>listing_id</th>\n",
       "      <th>date</th>\n",
       "    </tr>\n",
       "  </thead>\n",
       "  <tbody>\n",
       "    <tr>\n",
       "      <th>367</th>\n",
       "      <td>20168</td>\n",
       "      <td>2016-01-05</td>\n",
       "    </tr>\n",
       "    <tr>\n",
       "      <th>1220</th>\n",
       "      <td>28871</td>\n",
       "      <td>2017-08-29</td>\n",
       "    </tr>\n",
       "    <tr>\n",
       "      <th>1506</th>\n",
       "      <td>29051</td>\n",
       "      <td>2016-03-10</td>\n",
       "    </tr>\n",
       "    <tr>\n",
       "      <th>2620</th>\n",
       "      <td>47061</td>\n",
       "      <td>2011-10-16</td>\n",
       "    </tr>\n",
       "    <tr>\n",
       "      <th>3036</th>\n",
       "      <td>50515</td>\n",
       "      <td>2014-04-17</td>\n",
       "    </tr>\n",
       "    <tr>\n",
       "      <th>...</th>\n",
       "      <td>...</td>\n",
       "      <td>...</td>\n",
       "    </tr>\n",
       "    <tr>\n",
       "      <th>431809</th>\n",
       "      <td>30248825</td>\n",
       "      <td>2018-11-28</td>\n",
       "    </tr>\n",
       "    <tr>\n",
       "      <th>431815</th>\n",
       "      <td>30339819</td>\n",
       "      <td>2018-11-28</td>\n",
       "    </tr>\n",
       "    <tr>\n",
       "      <th>431816</th>\n",
       "      <td>30339819</td>\n",
       "      <td>2018-11-28</td>\n",
       "    </tr>\n",
       "    <tr>\n",
       "      <th>431817</th>\n",
       "      <td>30339819</td>\n",
       "      <td>2018-11-28</td>\n",
       "    </tr>\n",
       "    <tr>\n",
       "      <th>431818</th>\n",
       "      <td>30339819</td>\n",
       "      <td>2018-11-28</td>\n",
       "    </tr>\n",
       "  </tbody>\n",
       "</table>\n",
       "<p>1321 rows × 2 columns</p>\n",
       "</div>"
      ],
      "text/plain": [
       "       listing_id        date\n",
       "367         20168  2016-01-05\n",
       "1220        28871  2017-08-29\n",
       "1506        29051  2016-03-10\n",
       "2620        47061  2011-10-16\n",
       "3036        50515  2014-04-17\n",
       "...           ...         ...\n",
       "431809   30248825  2018-11-28\n",
       "431815   30339819  2018-11-28\n",
       "431816   30339819  2018-11-28\n",
       "431817   30339819  2018-11-28\n",
       "431818   30339819  2018-11-28\n",
       "\n",
       "[1321 rows x 2 columns]"
      ]
     },
     "execution_count": 42,
     "metadata": {},
     "output_type": "execute_result"
    }
   ],
   "source": [
    "df_reviews_dups"
   ]
  },
  {
   "cell_type": "code",
   "execution_count": 43,
   "id": "fabbf9c9",
   "metadata": {},
   "outputs": [],
   "source": [
    "# Finding duplicates in reviews_dets dataframe\n",
    "df_reviews_dets_dups = df_reviews_dets[df_reviews_dets.duplicated()]"
   ]
  },
  {
   "cell_type": "code",
   "execution_count": 44,
   "id": "4d503567",
   "metadata": {},
   "outputs": [
    {
     "data": {
      "text/html": [
       "<div>\n",
       "<style scoped>\n",
       "    .dataframe tbody tr th:only-of-type {\n",
       "        vertical-align: middle;\n",
       "    }\n",
       "\n",
       "    .dataframe tbody tr th {\n",
       "        vertical-align: top;\n",
       "    }\n",
       "\n",
       "    .dataframe thead th {\n",
       "        text-align: right;\n",
       "    }\n",
       "</style>\n",
       "<table border=\"1\" class=\"dataframe\">\n",
       "  <thead>\n",
       "    <tr style=\"text-align: right;\">\n",
       "      <th></th>\n",
       "      <th>listing_id</th>\n",
       "      <th>id</th>\n",
       "      <th>date</th>\n",
       "      <th>reviewer_id</th>\n",
       "      <th>reviewer_name</th>\n",
       "      <th>comments</th>\n",
       "    </tr>\n",
       "  </thead>\n",
       "  <tbody>\n",
       "  </tbody>\n",
       "</table>\n",
       "</div>"
      ],
      "text/plain": [
       "Empty DataFrame\n",
       "Columns: [listing_id, id, date, reviewer_id, reviewer_name, comments]\n",
       "Index: []"
      ]
     },
     "execution_count": 44,
     "metadata": {},
     "output_type": "execute_result"
    }
   ],
   "source": [
    "df_reviews_dets_dups"
   ]
  },
  {
   "cell_type": "markdown",
   "id": "763ed905",
   "metadata": {},
   "source": [
    "# Exporting Dataframes"
   ]
  },
  {
   "cell_type": "code",
   "execution_count": 45,
   "id": "07669ff7",
   "metadata": {},
   "outputs": [],
   "source": [
    "# Exporting all cleaned dataframes\n",
    "df_calendar.to_csv(os.path.join(path, 'Data','Prepared Data', 'df_calendar_cleaned.csv'))"
   ]
  },
  {
   "cell_type": "code",
   "execution_count": 46,
   "id": "3f32d0e1",
   "metadata": {},
   "outputs": [],
   "source": [
    "df_listings_2.to_csv(os.path.join(path, 'Data','Prepared Data', 'df_listings_cleaned.csv'))"
   ]
  },
  {
   "cell_type": "code",
   "execution_count": 47,
   "id": "c050e478",
   "metadata": {},
   "outputs": [],
   "source": [
    "df_listings_dets_2.to_csv(os.path.join(path, 'Data','Prepared Data', 'df_listings_dets_cleaned.csv'))"
   ]
  },
  {
   "cell_type": "code",
   "execution_count": 48,
   "id": "735e7644",
   "metadata": {},
   "outputs": [],
   "source": [
    "df_neighbourhoods_2.to_csv(os.path.join(path, 'Data','Prepared Data', 'df_neighbourhoods_cleaned.csv'))"
   ]
  },
  {
   "cell_type": "code",
   "execution_count": 49,
   "id": "d4d845cd",
   "metadata": {},
   "outputs": [],
   "source": [
    "df_reviews.to_csv(os.path.join(path, 'Data','Prepared Data', 'df_reviews_cleaned.csv'))"
   ]
  },
  {
   "cell_type": "code",
   "execution_count": 50,
   "id": "60af6b6b",
   "metadata": {},
   "outputs": [],
   "source": [
    "df_reviews_dets.to_csv(os.path.join(path, 'Data','Prepared Data', 'df_reviews_dets_cleaned.csv'))"
   ]
  },
  {
   "cell_type": "code",
   "execution_count": null,
   "id": "71d8a5f2",
   "metadata": {},
   "outputs": [],
   "source": []
  },
  {
   "cell_type": "code",
   "execution_count": null,
   "id": "a79361c9",
   "metadata": {},
   "outputs": [],
   "source": []
  },
  {
   "cell_type": "code",
   "execution_count": null,
   "id": "d756ffca",
   "metadata": {},
   "outputs": [],
   "source": []
  }
 ],
 "metadata": {
  "kernelspec": {
   "display_name": "Python 3 (ipykernel)",
   "language": "python",
   "name": "python3"
  },
  "language_info": {
   "codemirror_mode": {
    "name": "ipython",
    "version": 3
   },
   "file_extension": ".py",
   "mimetype": "text/x-python",
   "name": "python",
   "nbconvert_exporter": "python",
   "pygments_lexer": "ipython3",
   "version": "3.10.9"
  }
 },
 "nbformat": 4,
 "nbformat_minor": 5
}
